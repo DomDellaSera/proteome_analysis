{
 "cells": [
  {
   "cell_type": "code",
   "execution_count": 42,
   "metadata": {
    "collapsed": true
   },
   "outputs": [],
   "source": [
    "import pandas as pd\n",
    "import numpy as np\n",
    "import matplotlib.pyplot as plt\n",
    "import re\n",
    "import statsmodels.api as sm\n",
    "import statsmodels.formula.api as smf\n",
    "from bokeh.plotting import figure\n",
    "from bokeh.io import push_notebook,show,output_notebook\n",
    "from ipywidgets import interact"
   ]
  },
  {
   "cell_type": "code",
   "execution_count": null,
   "metadata": {
    "collapsed": true
   },
   "outputs": [],
   "source": [
    "with open(\"uniprot-elegans.fasta\") as uniprot:\n",
    "    uniprot =uniprot.read()\n",
    "    seqs = re.(\".*\", uniprot[1:5000])\n",
    "    print(seqs)\n",
    "    #print(uniprot[1:1200])\n",
    "uni_subset =uniprot[1:10000]\n",
    "def uniprot_fasta_tableconv(fasta_file):\n",
    "    fasta_file = uni_subset.split(\">\")\n",
    "    for i in fasta_file:\n",
    "        tmp=i.split(\"|\")\n",
    "        tmp = [tmp[0]+tmp[1], tmp[2]]\n",
    "        tmp = \n",
    "        #tmp = i.split(\"OS=\")\n",
    "        #tmp[1] = tmp[1].split(\"GN=\")\n",
    "        #tmp[]\n",
    "    \n",
    "    \n",
    "    \n",
    "    \n",
    "        print(tmp)\n",
    "uniprot_fasta_tableconv(uni_subset)"
   ]
  },
  {
   "cell_type": "code",
   "execution_count": null,
   "metadata": {
    "collapsed": true
   },
   "outputs": [],
   "source": []
  },
  {
   "cell_type": "code",
   "execution_count": 3,
   "metadata": {
    "collapsed": false
   },
   "outputs": [
    {
     "name": "stdout",
     "output_type": "stream",
     "text": [
      "C:\\Users\\DDell\\Documents\\Programming\\Bioinformatics\\proteome_analysis_c_elegans\\protein_disorder_prediction_espritz\n"
     ]
    }
   ],
   "source": [
    "cd protein_disorder_prediction_espritz/"
   ]
  },
  {
   "cell_type": "code",
   "execution_count": 4,
   "metadata": {
    "collapsed": false
   },
   "outputs": [],
   "source": [
    "def protein_stats(stats_file):\n",
    "    with open(stats_file) as stats:\n",
    "        stats = stats.read()\n",
    "        stats = stats.rstrip()\n",
    "        stats = stats.split(\"\\n\")\n",
    "       \n",
    "        \n",
    "        stats = [x.split(\":\") for x in stats]\n",
    "        count = -1\n",
    "        \n",
    "        \n",
    "        #For each row replace the value in the second item with a stripped version\n",
    "       \n",
    "        #print(stats)\n",
    "        error = None\n",
    "        \n",
    "        for i in stats:\n",
    "            count += 1\n",
    "            value = stats[count][1]\n",
    "            stats[count][1] = value.lstrip()\n",
    "            if value == \"\":\n",
    "                stats[count][1] = None\n",
    "                continue\n",
    "            try:\n",
    "                float(i[1])\n",
    "            except:\n",
    "                \n",
    "                stats[count][1] = stats[count][1].split(\" \")\n",
    "        #if error != None\n",
    "        #    stats\n",
    "        #[float(x[1]) for x in stats]\n",
    "        #stats = [x[1].rstrip(\" \") for x in stats]\n",
    "        #stats = [x.rstrip(\" \") for x in stats if \" \" in x]\n",
    "        \n",
    "        pro_name = stats_file[:-12]    \n",
    "        \n",
    "        \"\"\"if stats[5][1]!= None:\n",
    "            df_range = len(stats[5][1])\n",
    "        else:\n",
    "            df_range = 1\"\"\"\n",
    "        stat_table = pd.DataFrame({\"protein\" : pd.Series(pro_name, index=list(range(1)), dtype=object),\n",
    "                                  \"tot_aa\"  : np.array(stats[0][1], dtype=\"int32\"),\n",
    "                                   \"pct_disord\" : np.array(stats[1][1], dtype=\"float32\"),\n",
    "                                   \"thirty_disord\" : np.array(stats[2][1], dtype=\"int32\"),\n",
    "                                   \"fifty_disord\" : np.array(stats[3][1], dtype=\"int32\"),\n",
    "                                   \"seg_disord\" : np.array(stats[4][1], dtype=\"int32\")#,\n",
    "                                   #\"len_dist\" : pd.Series(stats[5][1], dtype=\"float32\")\n",
    "                                       \n",
    "                                  \n",
    "                                })\n",
    "        return(stat_table)\n",
    "   "
   ]
  },
  {
   "cell_type": "code",
   "execution_count": 5,
   "metadata": {
    "collapsed": false
   },
   "outputs": [],
   "source": [
    "def protein_stats(stats_file):\n",
    "    with open(stats_file) as stats:\n",
    "        stats = stats.read()\n",
    "        stats = stats.rstrip()\n",
    "        stats = stats.split(\"\\n\")\n",
    "       \n",
    "        \n",
    "        stats = [x.split(\":\") for x in stats]\n",
    "        count = -1\n",
    "        \n",
    "        \n",
    "        #For each row replace the value in the second item with a stripped version\n",
    "       \n",
    "        #print(stats)\n",
    "        error = None\n",
    "        \n",
    "        for i in stats:\n",
    "            count += 1\n",
    "            value = stats[count][1]\n",
    "            stats[count][1] = value.lstrip()\n",
    "            if value == \"\":\n",
    "                stats[count][1] = None\n",
    "                continue\n",
    "            try:\n",
    "                float(i[1])\n",
    "            except:\n",
    "                \n",
    "                stats[count][1] = stats[count][1].split(\" \")\n",
    "        #if error != None\n",
    "        #    stats\n",
    "        #[float(x[1]) for x in stats]\n",
    "        #stats = [x[1].rstrip(\" \") for x in stats]\n",
    "        #stats = [x.rstrip(\" \") for x in stats if \" \" in x]\n",
    "        \n",
    "        pro_name = stats_file[:-12]    \n",
    "        \n",
    "        \"\"\"if stats[5][1]!= None:\n",
    "            df_range = len(stats[5][1])\n",
    "        else:\n",
    "            df_range = 1\"\"\"\n",
    "        stat_table = pd.DataFrame({\"protein\" : pd.Series(pro_name, index=list(range(1)), dtype=object),\n",
    "                                  \"tot_aa\"  : np.array(stats[0][1], dtype=\"int32\"),\n",
    "                                   \"pct_disord\" : np.array(stats[1][1], dtype=\"float32\"),\n",
    "                                   \"thirty_disord\" : np.array(stats[2][1], dtype=\"int32\"),\n",
    "                                   \"fifty_disord\" : np.array(stats[3][1], dtype=\"int32\"),\n",
    "                                   \"seg_disord\" : np.array(stats[4][1], dtype=\"int32\"),\n",
    "                                   \"len_dist\" : pd.Series(stats[5][1], dtype=\"float32\")\n",
    "                                       \n",
    "                                  \n",
    "                                })\n",
    "        return(stat_table)\n",
    "   "
   ]
  },
  {
   "cell_type": "code",
   "execution_count": 6,
   "metadata": {
    "collapsed": false,
    "scrolled": true
   },
   "outputs": [
    {
     "name": "stdout",
     "output_type": "stream",
     "text": [
      "    fifty_disord  len_dist  pct_disord       protein  seg_disord  \\\n",
      "0              0        12    1.160000  spA0A078BQP2           1   \n",
      "0              2        89   31.350000  spA0A0K3AV08           5   \n",
      "1              2       217   31.350000           NaN           5   \n",
      "2              2         2   31.350000           NaN           5   \n",
      "3              2         1   31.350000           NaN           5   \n",
      "4              2        23   31.350000           NaN           5   \n",
      "0              0       NaN    0.000000  spA0A0K3AWM6           0   \n",
      "0              0         3    8.406000  spA0A131MCZ8           3   \n",
      "1              0        24    8.406000           NaN           3   \n",
      "2              0        40    8.406000           NaN           3   \n",
      "0              0         6    0.361000      spA0FLQ6           1   \n",
      "0              1        59   13.290000      spA0SQM0           2   \n",
      "1              1        16   13.290000           NaN           2   \n",
      "0              1       100   75.750000      spA1EC31           1   \n",
      "0              1       322   38.470001      spA1XD93           1   \n",
      "0              1       322   38.470001      spA1XD94           1   \n",
      "0              1       322   38.470001      spA1XD95           1   \n",
      "0              1       335   40.020000      spA1XD97           1   \n",
      "0              1       321   39.820000      spA1XDC0           3   \n",
      "1              1         1   39.820000           NaN           3   \n",
      "2              1        34   39.820000           NaN           3   \n",
      "0              1         8    8.754000      spA3QM97           2   \n",
      "1              1        63    8.754000           NaN           2   \n",
      "0              0       NaN    0.000000      spA3QMC8           0   \n",
      "0              1       326   38.939999      spA4UMC5           1   \n",
      "0              1       316   37.880001      spA4UMC6           1   \n",
      "0              1       102  100.000000      spA5JYQ9           1   \n",
      "0              4       134   48.099998      spA5JYW9           7   \n",
      "1              4       155   48.099998           NaN           7   \n",
      "2              4         3   48.099998           NaN           7   \n",
      "..           ...       ...         ...           ...         ...   \n",
      "1              1         2   20.750000           NaN           3   \n",
      "2              1        37   20.750000           NaN           3   \n",
      "0              1        90   41.660000      spQ9Z2R6           2   \n",
      "1              1        10   41.660000           NaN           2   \n",
      "0              2        28   57.509998      spQ9Z340           3   \n",
      "1              2       143   57.509998           NaN           3   \n",
      "2              2       598   57.509998           NaN           3   \n",
      "0              2        56   33.820000      spQ9ZQ34           4   \n",
      "1              2         1   33.820000           NaN           4   \n",
      "2              2         1   33.820000           NaN           4   \n",
      "3              2        80   33.820000           NaN           4   \n",
      "0              1        84   22.770000      spQ9ZRA2           2   \n",
      "1              1        21   22.770000           NaN           2   \n",
      "0              2        45   46.939999      spU4PAZ9           4   \n",
      "1              2       156   46.939999           NaN           4   \n",
      "2              2       308   46.939999           NaN           4   \n",
      "3              2        13   46.939999           NaN           4   \n",
      "0              1       264   37.389999      spU4PR86           1   \n",
      "0              3       342   54.320000      spX5M5N0          11   \n",
      "1              3       318   54.320000           NaN          11   \n",
      "2              3         8   54.320000           NaN          11   \n",
      "3              3         1   54.320000           NaN          11   \n",
      "4              3         1   54.320000           NaN          11   \n",
      "5              3         1   54.320000           NaN          11   \n",
      "6              3         1   54.320000           NaN          11   \n",
      "7              3         2   54.320000           NaN          11   \n",
      "8              3        43   54.320000           NaN          11   \n",
      "9              3         3   54.320000           NaN          11   \n",
      "10             3       285   54.320000           NaN          11   \n",
      "0              0        24    2.205000      spX5M8U1           1   \n",
      "\n",
      "    thirty_disord  tot_aa  \n",
      "0               0    1034  \n",
      "0               2    1059  \n",
      "1               2    1059  \n",
      "2               2    1059  \n",
      "3               2    1059  \n",
      "4               2    1059  \n",
      "0               0     570  \n",
      "0               1     797  \n",
      "1               1     797  \n",
      "2               1     797  \n",
      "0               0    1661  \n",
      "0               1     564  \n",
      "1               1     564  \n",
      "0               1     132  \n",
      "0               1     837  \n",
      "0               1     837  \n",
      "0               1     837  \n",
      "0               1     837  \n",
      "0               2     894  \n",
      "1               2     894  \n",
      "2               2     894  \n",
      "0               1     811  \n",
      "1               1     811  \n",
      "0               0     365  \n",
      "0               1     837  \n",
      "0               1     834  \n",
      "0               1     102  \n",
      "0               4    1507  \n",
      "1               4    1507  \n",
      "2               4    1507  \n",
      "..            ...     ...  \n",
      "1               2     790  \n",
      "2               2     790  \n",
      "0               1     240  \n",
      "1               1     240  \n",
      "0               2    1337  \n",
      "1               2    1337  \n",
      "2               2    1337  \n",
      "0               2     408  \n",
      "1               2     408  \n",
      "2               2     408  \n",
      "3               2     408  \n",
      "0               1     461  \n",
      "1               1     461  \n",
      "0               3    1112  \n",
      "1               3    1112  \n",
      "2               3    1112  \n",
      "3               3    1112  \n",
      "0               1     706  \n",
      "0               4    1850  \n",
      "1               4    1850  \n",
      "2               4    1850  \n",
      "3               4    1850  \n",
      "4               4    1850  \n",
      "5               4    1850  \n",
      "6               4    1850  \n",
      "7               4    1850  \n",
      "8               4    1850  \n",
      "9               4    1850  \n",
      "10              4    1850  \n",
      "0               0    1088  \n",
      "\n",
      "[7606 rows x 7 columns]\n"
     ]
    }
   ],
   "source": [
    "datf=None\n",
    "handle = open(\"testfiles.csv\")\n",
    "#[print(x) for x in handle]\n",
    "row_index = [x[:-13] for x in handle]\n",
    "#row_index = pd.Index(row_index)\n",
    "#print(row_index)\n",
    "handle = open(\"testfiles.csv\")\n",
    "for i in handle:\n",
    "                \n",
    "    protein = i.rstrip()\n",
    "    #print(protein)\n",
    "    #row_index = {x for x in protein}\n",
    "    #print(row_index)\n",
    "    single_row = protein_stats(protein)\n",
    "    \n",
    "    if datf is None:\n",
    "        datf = single_row\n",
    "    else:\n",
    "        datf = datf.append(single_row)\n",
    "        \n",
    "print(datf)\n",
    "handle.close()\n"
   ]
  },
  {
   "cell_type": "code",
   "execution_count": 8,
   "metadata": {
    "collapsed": false,
    "scrolled": true
   },
   "outputs": [],
   "source": [
    "data_dist = datf\n",
    "data_nn= data_dist[pd.notnull(data_dist.len_dist)]"
   ]
  },
  {
   "cell_type": "code",
   "execution_count": 196,
   "metadata": {
    "collapsed": false,
    "scrolled": true
   },
   "outputs": [],
   "source": [
    "data_nn = data_nn[data_nn.pct_disord < 100]\n",
    "data_nn = data_nn[data_nn.pct_disord > 1]\n",
    "data_nn = data_nn[data_nn.tot_aa < 2000]"
   ]
  },
  {
   "cell_type": "code",
   "execution_count": 177,
   "metadata": {
    "collapsed": false,
    "scrolled": true
   },
   "outputs": [],
   "source": []
  },
  {
   "cell_type": "code",
   "execution_count": 9,
   "metadata": {
    "collapsed": false
   },
   "outputs": [
    {
     "name": "stdout",
     "output_type": "stream",
     "text": [
      "                            OLS Regression Results                            \n",
      "==============================================================================\n",
      "Dep. Variable:                 tot_aa   R-squared:                     -11.270\n",
      "Model:                            OLS   Adj. R-squared:                -11.272\n",
      "Method:                 Least Squares   F-statistic:                    -6477.\n",
      "Date:                Thu, 26 Jan 2017   Prob (F-statistic):               1.00\n",
      "Time:                        12:55:18   Log-Likelihood:                -61725.\n",
      "No. Observations:                7053   AIC:                         1.235e+05\n",
      "Df Residuals:                    7052   BIC:                         1.235e+05\n",
      "Df Model:                           1                                         \n",
      "Covariance Type:            nonrobust                                         \n",
      "==============================================================================\n",
      "                 coef    std err          t      P>|t|      [95.0% Conf. Int.]\n",
      "------------------------------------------------------------------------------\n",
      "pct_disord    11.7978      0.401     29.422      0.000        11.012    12.584\n",
      "==============================================================================\n",
      "Omnibus:                     9258.571   Durbin-Watson:                   0.314\n",
      "Prob(Omnibus):                  0.000   Jarque-Bera (JB):          1705916.214\n",
      "Skew:                           7.455   Prob(JB):                         0.00\n",
      "Kurtosis:                      77.717   Cond. No.                         1.00\n",
      "==============================================================================\n",
      "\n",
      "Warnings:\n",
      "[1] Standard Errors assume that the covariance matrix of the errors is correctly specified.\n"
     ]
    }
   ],
   "source": [
    "\n",
    "results =sm.OLS(y, x).fit()\n",
    "print(results.summary())"
   ]
  },
  {
   "cell_type": "code",
   "execution_count": 198,
   "metadata": {
    "collapsed": false
   },
   "outputs": [],
   "source": [
    "plt.scatter(x,y)\n",
    "\n",
    "plt.show()"
   ]
  },
  {
   "cell_type": "code",
   "execution_count": 148,
   "metadata": {
    "collapsed": false
   },
   "outputs": [
    {
     "data": {
      "text/html": [
       "<div>\n",
       "<table border=\"1\" class=\"dataframe\">\n",
       "  <thead>\n",
       "    <tr style=\"text-align: right;\">\n",
       "      <th></th>\n",
       "      <th>fifty_disord</th>\n",
       "      <th>pct_disord</th>\n",
       "      <th>protein</th>\n",
       "      <th>seg_disord</th>\n",
       "      <th>thirty_disord</th>\n",
       "      <th>tot_aa</th>\n",
       "    </tr>\n",
       "  </thead>\n",
       "  <tbody>\n",
       "    <tr>\n",
       "      <th>0</th>\n",
       "      <td>0</td>\n",
       "      <td>1.160</td>\n",
       "      <td>spA0A078BQP2</td>\n",
       "      <td>1</td>\n",
       "      <td>0</td>\n",
       "      <td>1034</td>\n",
       "    </tr>\n",
       "    <tr>\n",
       "      <th>0</th>\n",
       "      <td>2</td>\n",
       "      <td>31.350</td>\n",
       "      <td>spA0A0K3AV08</td>\n",
       "      <td>5</td>\n",
       "      <td>2</td>\n",
       "      <td>1059</td>\n",
       "    </tr>\n",
       "    <tr>\n",
       "      <th>0</th>\n",
       "      <td>0</td>\n",
       "      <td>0.000</td>\n",
       "      <td>spA0A0K3AWM6</td>\n",
       "      <td>0</td>\n",
       "      <td>0</td>\n",
       "      <td>570</td>\n",
       "    </tr>\n",
       "    <tr>\n",
       "      <th>0</th>\n",
       "      <td>0</td>\n",
       "      <td>8.406</td>\n",
       "      <td>spA0A131MCZ8</td>\n",
       "      <td>3</td>\n",
       "      <td>1</td>\n",
       "      <td>797</td>\n",
       "    </tr>\n",
       "    <tr>\n",
       "      <th>0</th>\n",
       "      <td>0</td>\n",
       "      <td>0.361</td>\n",
       "      <td>spA0FLQ6</td>\n",
       "      <td>1</td>\n",
       "      <td>0</td>\n",
       "      <td>1661</td>\n",
       "    </tr>\n",
       "  </tbody>\n",
       "</table>\n",
       "</div>"
      ],
      "text/plain": [
       "   fifty_disord  pct_disord       protein  seg_disord  thirty_disord  tot_aa\n",
       "0             0       1.160  spA0A078BQP2           1              0    1034\n",
       "0             2      31.350  spA0A0K3AV08           5              2    1059\n",
       "0             0       0.000  spA0A0K3AWM6           0              0     570\n",
       "0             0       8.406  spA0A131MCZ8           3              1     797\n",
       "0             0       0.361      spA0FLQ6           1              0    1661"
      ]
     },
     "execution_count": 148,
     "metadata": {},
     "output_type": "execute_result"
    }
   ],
   "source": [
    "data.head()"
   ]
  },
  {
   "cell_type": "code",
   "execution_count": 120,
   "metadata": {
    "collapsed": false
   },
   "outputs": [
    {
     "name": "stdout",
     "output_type": "stream",
     "text": [
      "                            OLS Regression Results                            \n",
      "==============================================================================\n",
      "Dep. Variable:             pct_disord   R-squared:                       0.175\n",
      "Model:                            OLS   Adj. R-squared:                  0.175\n",
      "Method:                 Least Squares   F-statistic:                     1274.\n",
      "Date:                Thu, 26 Jan 2017   Prob (F-statistic):          2.86e-253\n",
      "Time:                        07:36:27   Log-Likelihood:                -29010.\n",
      "No. Observations:                6014   AIC:                         5.802e+04\n",
      "Df Residuals:                    6013   BIC:                         5.803e+04\n",
      "Df Model:                           1                                         \n",
      "Covariance Type:            nonrobust                                         \n",
      "==============================================================================\n",
      "                 coef    std err          t      P>|t|      [95.0% Conf. Int.]\n",
      "------------------------------------------------------------------------------\n",
      "len_dist       0.0686      0.002     35.695      0.000         0.065     0.072\n",
      "==============================================================================\n",
      "Omnibus:                     4445.821   Durbin-Watson:                   0.601\n",
      "Prob(Omnibus):                  0.000   Jarque-Bera (JB):           878963.841\n",
      "Skew:                          -2.583   Prob(JB):                         0.00\n",
      "Kurtosis:                      62.000   Cond. No.                         1.00\n",
      "==============================================================================\n",
      "\n",
      "Warnings:\n",
      "[1] Standard Errors assume that the covariance matrix of the errors is correctly specified.\n"
     ]
    }
   ],
   "source": []
  },
  {
   "cell_type": "code",
   "execution_count": 55,
   "metadata": {
    "collapsed": false
   },
   "outputs": [
    {
     "data": {
      "text/html": [
       "\n",
       "    <div class=\"bk-root\">\n",
       "        <a href=\"http://bokeh.pydata.org\" target=\"_blank\" class=\"bk-logo bk-logo-small bk-logo-notebook\"></a>\n",
       "        <span id=\"44afbdea-f635-43c6-9459-95a9bde24450\">Loading BokehJS ...</span>\n",
       "    </div>"
      ]
     },
     "metadata": {},
     "output_type": "display_data"
    },
    {
     "data": {
      "application/javascript": [
       "\n",
       "(function(global) {\n",
       "  function now() {\n",
       "    return new Date();\n",
       "  }\n",
       "\n",
       "  var force = true;\n",
       "\n",
       "  if (typeof (window._bokeh_onload_callbacks) === \"undefined\" || force === true) {\n",
       "    window._bokeh_onload_callbacks = [];\n",
       "    window._bokeh_is_loading = undefined;\n",
       "  }\n",
       "\n",
       "\n",
       "  \n",
       "  if (typeof (window._bokeh_timeout) === \"undefined\" || force === true) {\n",
       "    window._bokeh_timeout = Date.now() + 5000;\n",
       "    window._bokeh_failed_load = false;\n",
       "  }\n",
       "\n",
       "  var NB_LOAD_WARNING = {'data': {'text/html':\n",
       "     \"<div style='background-color: #fdd'>\\n\"+\n",
       "     \"<p>\\n\"+\n",
       "     \"BokehJS does not appear to have successfully loaded. If loading BokehJS from CDN, this \\n\"+\n",
       "     \"may be due to a slow or bad network connection. Possible fixes:\\n\"+\n",
       "     \"</p>\\n\"+\n",
       "     \"<ul>\\n\"+\n",
       "     \"<li>re-rerun `output_notebook()` to attempt to load from CDN again, or</li>\\n\"+\n",
       "     \"<li>use INLINE resources instead, as so:</li>\\n\"+\n",
       "     \"</ul>\\n\"+\n",
       "     \"<code>\\n\"+\n",
       "     \"from bokeh.resources import INLINE\\n\"+\n",
       "     \"output_notebook(resources=INLINE)\\n\"+\n",
       "     \"</code>\\n\"+\n",
       "     \"</div>\"}};\n",
       "\n",
       "  function display_loaded() {\n",
       "    if (window.Bokeh !== undefined) {\n",
       "      document.getElementById(\"44afbdea-f635-43c6-9459-95a9bde24450\").textContent = \"BokehJS successfully loaded.\";\n",
       "    } else if (Date.now() < window._bokeh_timeout) {\n",
       "      setTimeout(display_loaded, 100)\n",
       "    }\n",
       "  }\n",
       "\n",
       "  function run_callbacks() {\n",
       "    window._bokeh_onload_callbacks.forEach(function(callback) { callback() });\n",
       "    delete window._bokeh_onload_callbacks\n",
       "    console.info(\"Bokeh: all callbacks have finished\");\n",
       "  }\n",
       "\n",
       "  function load_libs(js_urls, callback) {\n",
       "    window._bokeh_onload_callbacks.push(callback);\n",
       "    if (window._bokeh_is_loading > 0) {\n",
       "      console.log(\"Bokeh: BokehJS is being loaded, scheduling callback at\", now());\n",
       "      return null;\n",
       "    }\n",
       "    if (js_urls == null || js_urls.length === 0) {\n",
       "      run_callbacks();\n",
       "      return null;\n",
       "    }\n",
       "    console.log(\"Bokeh: BokehJS not loaded, scheduling load and callback at\", now());\n",
       "    window._bokeh_is_loading = js_urls.length;\n",
       "    for (var i = 0; i < js_urls.length; i++) {\n",
       "      var url = js_urls[i];\n",
       "      var s = document.createElement('script');\n",
       "      s.src = url;\n",
       "      s.async = false;\n",
       "      s.onreadystatechange = s.onload = function() {\n",
       "        window._bokeh_is_loading--;\n",
       "        if (window._bokeh_is_loading === 0) {\n",
       "          console.log(\"Bokeh: all BokehJS libraries loaded\");\n",
       "          run_callbacks()\n",
       "        }\n",
       "      };\n",
       "      s.onerror = function() {\n",
       "        console.warn(\"failed to load library \" + url);\n",
       "      };\n",
       "      console.log(\"Bokeh: injecting script tag for BokehJS library: \", url);\n",
       "      document.getElementsByTagName(\"head\")[0].appendChild(s);\n",
       "    }\n",
       "  };var element = document.getElementById(\"44afbdea-f635-43c6-9459-95a9bde24450\");\n",
       "  if (element == null) {\n",
       "    console.log(\"Bokeh: ERROR: autoload.js configured with elementid '44afbdea-f635-43c6-9459-95a9bde24450' but no matching script tag was found. \")\n",
       "    return false;\n",
       "  }\n",
       "\n",
       "  var js_urls = [\"https://cdn.pydata.org/bokeh/release/bokeh-0.12.4.min.js\", \"https://cdn.pydata.org/bokeh/release/bokeh-widgets-0.12.4.min.js\"];\n",
       "\n",
       "  var inline_js = [\n",
       "    function(Bokeh) {\n",
       "      Bokeh.set_log_level(\"info\");\n",
       "    },\n",
       "    \n",
       "    function(Bokeh) {\n",
       "      \n",
       "      document.getElementById(\"44afbdea-f635-43c6-9459-95a9bde24450\").textContent = \"BokehJS is loading...\";\n",
       "    },\n",
       "    function(Bokeh) {\n",
       "      console.log(\"Bokeh: injecting CSS: https://cdn.pydata.org/bokeh/release/bokeh-0.12.4.min.css\");\n",
       "      Bokeh.embed.inject_css(\"https://cdn.pydata.org/bokeh/release/bokeh-0.12.4.min.css\");\n",
       "      console.log(\"Bokeh: injecting CSS: https://cdn.pydata.org/bokeh/release/bokeh-widgets-0.12.4.min.css\");\n",
       "      Bokeh.embed.inject_css(\"https://cdn.pydata.org/bokeh/release/bokeh-widgets-0.12.4.min.css\");\n",
       "    }\n",
       "  ];\n",
       "\n",
       "  function run_inline_js() {\n",
       "    \n",
       "    if ((window.Bokeh !== undefined) || (force === true)) {\n",
       "      for (var i = 0; i < inline_js.length; i++) {\n",
       "        inline_js[i](window.Bokeh);\n",
       "      }if (force === true) {\n",
       "        display_loaded();\n",
       "      }} else if (Date.now() < window._bokeh_timeout) {\n",
       "      setTimeout(run_inline_js, 100);\n",
       "    } else if (!window._bokeh_failed_load) {\n",
       "      console.log(\"Bokeh: BokehJS failed to load within specified timeout.\");\n",
       "      window._bokeh_failed_load = true;\n",
       "    } else if (force !== true) {\n",
       "      var cell = $(document.getElementById(\"44afbdea-f635-43c6-9459-95a9bde24450\")).parents('.cell').data().cell;\n",
       "      cell.output_area.append_execute_result(NB_LOAD_WARNING)\n",
       "    }\n",
       "\n",
       "  }\n",
       "\n",
       "  if (window._bokeh_is_loading === 0) {\n",
       "    console.log(\"Bokeh: BokehJS loaded, going straight to plotting\");\n",
       "    run_inline_js();\n",
       "  } else {\n",
       "    load_libs(js_urls, function() {\n",
       "      console.log(\"Bokeh: BokehJS plotting callback run at\", now());\n",
       "      run_inline_js();\n",
       "    });\n",
       "  }\n",
       "}(this));"
      ]
     },
     "metadata": {},
     "output_type": "display_data"
    }
   ],
   "source": [
    "output_notebook()\n",
    "y = data_nn.pct_disord\n",
    "x = data_nn.tot_aa\n",
    "bokeh_plot = figure(plot_width=1024, plot_height=576)"
   ]
  },
  {
   "cell_type": "code",
   "execution_count": 56,
   "metadata": {
    "collapsed": false
   },
   "outputs": [],
   "source": [
    "r = bokeh_plot.circle(x,y)"
   ]
  },
  {
   "cell_type": "code",
   "execution_count": null,
   "metadata": {
    "collapsed": false
   },
   "outputs": [],
   "source": []
  },
  {
   "cell_type": "code",
   "execution_count": 61,
   "metadata": {
    "collapsed": false
   },
   "outputs": [
    {
     "data": {
      "text/html": [
       "\n",
       "\n",
       "    <div class=\"bk-root\">\n",
       "        <div class=\"bk-plotdiv\" id=\"4cabaa9c-cd19-4964-95f3-e8b6854ba41d\"></div>\n",
       "    </div>\n",
       "<script type=\"text/javascript\">\n",
       "  \n",
       "  (function(global) {\n",
       "    function now() {\n",
       "      return new Date();\n",
       "    }\n",
       "  \n",
       "    var force = false;\n",
       "  \n",
       "    if (typeof (window._bokeh_onload_callbacks) === \"undefined\" || force === true) {\n",
       "      window._bokeh_onload_callbacks = [];\n",
       "      window._bokeh_is_loading = undefined;\n",
       "    }\n",
       "  \n",
       "  \n",
       "    \n",
       "    if (typeof (window._bokeh_timeout) === \"undefined\" || force === true) {\n",
       "      window._bokeh_timeout = Date.now() + 0;\n",
       "      window._bokeh_failed_load = false;\n",
       "    }\n",
       "  \n",
       "    var NB_LOAD_WARNING = {'data': {'text/html':\n",
       "       \"<div style='background-color: #fdd'>\\n\"+\n",
       "       \"<p>\\n\"+\n",
       "       \"BokehJS does not appear to have successfully loaded. If loading BokehJS from CDN, this \\n\"+\n",
       "       \"may be due to a slow or bad network connection. Possible fixes:\\n\"+\n",
       "       \"</p>\\n\"+\n",
       "       \"<ul>\\n\"+\n",
       "       \"<li>re-rerun `output_notebook()` to attempt to load from CDN again, or</li>\\n\"+\n",
       "       \"<li>use INLINE resources instead, as so:</li>\\n\"+\n",
       "       \"</ul>\\n\"+\n",
       "       \"<code>\\n\"+\n",
       "       \"from bokeh.resources import INLINE\\n\"+\n",
       "       \"output_notebook(resources=INLINE)\\n\"+\n",
       "       \"</code>\\n\"+\n",
       "       \"</div>\"}};\n",
       "  \n",
       "    function display_loaded() {\n",
       "      if (window.Bokeh !== undefined) {\n",
       "        document.getElementById(\"4cabaa9c-cd19-4964-95f3-e8b6854ba41d\").textContent = \"BokehJS successfully loaded.\";\n",
       "      } else if (Date.now() < window._bokeh_timeout) {\n",
       "        setTimeout(display_loaded, 100)\n",
       "      }\n",
       "    }if ((window.Jupyter !== undefined) && Jupyter.notebook.kernel) {\n",
       "      comm_manager = Jupyter.notebook.kernel.comm_manager\n",
       "      comm_manager.register_target(\"a37c5b1e-c698-4d98-b37b-bf58ef569b68\", function () {});\n",
       "    }\n",
       "  \n",
       "    function run_callbacks() {\n",
       "      window._bokeh_onload_callbacks.forEach(function(callback) { callback() });\n",
       "      delete window._bokeh_onload_callbacks\n",
       "      console.info(\"Bokeh: all callbacks have finished\");\n",
       "    }\n",
       "  \n",
       "    function load_libs(js_urls, callback) {\n",
       "      window._bokeh_onload_callbacks.push(callback);\n",
       "      if (window._bokeh_is_loading > 0) {\n",
       "        console.log(\"Bokeh: BokehJS is being loaded, scheduling callback at\", now());\n",
       "        return null;\n",
       "      }\n",
       "      if (js_urls == null || js_urls.length === 0) {\n",
       "        run_callbacks();\n",
       "        return null;\n",
       "      }\n",
       "      console.log(\"Bokeh: BokehJS not loaded, scheduling load and callback at\", now());\n",
       "      window._bokeh_is_loading = js_urls.length;\n",
       "      for (var i = 0; i < js_urls.length; i++) {\n",
       "        var url = js_urls[i];\n",
       "        var s = document.createElement('script');\n",
       "        s.src = url;\n",
       "        s.async = false;\n",
       "        s.onreadystatechange = s.onload = function() {\n",
       "          window._bokeh_is_loading--;\n",
       "          if (window._bokeh_is_loading === 0) {\n",
       "            console.log(\"Bokeh: all BokehJS libraries loaded\");\n",
       "            run_callbacks()\n",
       "          }\n",
       "        };\n",
       "        s.onerror = function() {\n",
       "          console.warn(\"failed to load library \" + url);\n",
       "        };\n",
       "        console.log(\"Bokeh: injecting script tag for BokehJS library: \", url);\n",
       "        document.getElementsByTagName(\"head\")[0].appendChild(s);\n",
       "      }\n",
       "    };var element = document.getElementById(\"4cabaa9c-cd19-4964-95f3-e8b6854ba41d\");\n",
       "    if (element == null) {\n",
       "      console.log(\"Bokeh: ERROR: autoload.js configured with elementid '4cabaa9c-cd19-4964-95f3-e8b6854ba41d' but no matching script tag was found. \")\n",
       "      return false;\n",
       "    }\n",
       "  \n",
       "    var js_urls = [];\n",
       "  \n",
       "    var inline_js = [\n",
       "      function(Bokeh) {\n",
       "        (function() {\n",
       "          var fn = function() {\n",
       "            var docs_json = {\"844cbabd-6a39-4fd5-a9d2-acdc0b90d9bb\":{\"roots\":{\"references\":[{\"attributes\":{\"active_drag\":\"auto\",\"active_scroll\":\"auto\",\"active_tap\":\"auto\",\"tools\":[{\"id\":\"03c94070-d5c5-454a-8256-bd452838224b\",\"type\":\"PanTool\"},{\"id\":\"f538faea-8bac-402e-95b4-6839cc230a17\",\"type\":\"WheelZoomTool\"},{\"id\":\"1c7aa065-fe10-4e1f-9d18-43afc3a814db\",\"type\":\"BoxZoomTool\"},{\"id\":\"9e5c2766-3282-4447-83e8-047ce6d5b619\",\"type\":\"SaveTool\"},{\"id\":\"6f28c652-b747-4775-826a-bb3bf8df8e59\",\"type\":\"ResetTool\"},{\"id\":\"3e0679d4-1b2e-4e26-9eab-4953d44f9ccc\",\"type\":\"HelpTool\"}]},\"id\":\"4f288f92-0405-4d65-a49e-5d928f859975\",\"type\":\"Toolbar\"},{\"attributes\":{\"fill_alpha\":{\"value\":0.1},\"fill_color\":{\"value\":\"#1f77b4\"},\"line_alpha\":{\"value\":0.1},\"line_color\":{\"value\":\"#1f77b4\"},\"x\":{\"field\":\"x\"},\"y\":{\"field\":\"y\"}},\"id\":\"25b4fa02-e425-414c-ba4b-26387bdd2c2a\",\"type\":\"Circle\"},{\"attributes\":{\"fill_color\":{\"value\":\"#1f77b4\"},\"line_color\":{\"value\":\"#1f77b4\"},\"x\":{\"field\":\"x\"},\"y\":{\"field\":\"y\"}},\"id\":\"ffba90e2-f62a-4723-96dd-ab7e05d1b1c0\",\"type\":\"Circle\"},{\"attributes\":{},\"id\":\"4be2388f-e60c-4236-883f-2b207b573bb9\",\"type\":\"BasicTickFormatter\"},{\"attributes\":{\"plot\":null,\"text\":\"\"},\"id\":\"f5e9f597-503f-45c2-b268-5ae6d201ee9e\",\"type\":\"Title\"},{\"attributes\":{\"below\":[{\"id\":\"dba186c7-8d42-4c60-b8fe-d8cbe9a27c51\",\"type\":\"LinearAxis\"}],\"left\":[{\"id\":\"619ba263-d378-4821-b773-a7fab6d6da7d\",\"type\":\"LinearAxis\"}],\"plot_height\":576,\"plot_width\":1024,\"renderers\":[{\"id\":\"dba186c7-8d42-4c60-b8fe-d8cbe9a27c51\",\"type\":\"LinearAxis\"},{\"id\":\"edfd51a3-1e30-496a-ae64-873e120c47fc\",\"type\":\"Grid\"},{\"id\":\"619ba263-d378-4821-b773-a7fab6d6da7d\",\"type\":\"LinearAxis\"},{\"id\":\"a49cde65-c745-4025-a5d5-4c9ef4d27d80\",\"type\":\"Grid\"},{\"id\":\"3eadeb8a-6624-4733-aee1-17c3c12994b0\",\"type\":\"BoxAnnotation\"},{\"id\":\"a5e64ab4-e21b-4a45-a130-983fa2d2546a\",\"type\":\"GlyphRenderer\"}],\"title\":{\"id\":\"f5e9f597-503f-45c2-b268-5ae6d201ee9e\",\"type\":\"Title\"},\"tool_events\":{\"id\":\"ffbf85be-811b-48ef-8bc1-da265d64fd5f\",\"type\":\"ToolEvents\"},\"toolbar\":{\"id\":\"4f288f92-0405-4d65-a49e-5d928f859975\",\"type\":\"Toolbar\"},\"x_range\":{\"id\":\"9f0ff914-e2c5-413d-9f7b-9ea92d700676\",\"type\":\"DataRange1d\"},\"y_range\":{\"id\":\"ad96d6ef-bdcf-41eb-aa8b-55b6f11baa71\",\"type\":\"DataRange1d\"}},\"id\":\"1c496c6f-ee34-4510-beeb-9fdfded99b4e\",\"subtype\":\"Figure\",\"type\":\"Plot\"},{\"attributes\":{\"callback\":null,\"column_names\":[\"x\",\"y\"],\"data\":{\"x\":{\"__ndarray__\":\"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\",\"dtype\":\"int32\",\"shape\":[7053]},\"y\":{\"__ndarray__\":\"AQAAAAUAAAAFAAAABQAAAAUAAAAFAAAAAwAAAAMAAAADAAAAAQAAAAIAAAACAAAAAQAAAAEAAAABAAAAAQAAAAEAAAADAAAAAwAAAAMAAAACAAAAAgAAAAEAAAABAAAAAQAAAAcAAAAHAAAABwAAAAcAAAAHAAAABwAAAAcAAAABAAAAAQAAAAIAAAACAAAAAQAAAAMAAAADAAAAAwAAAAIAAAACAAAAAQAAAAIAAAACAAAABQAAAAUAAAAFAAAABQAAAAUAAAACAAAAAgAAAAIAAAACAAAAAgAAAAIAAAABAAAAAQAAAAEAAAACAAAAAgAAAAEAAAALAAAACwAAAAsAAAALAAAACwAAAAsAAAALAAAACwAAAAsAAAALAAAACwAAAAIAAAACAAAAAQAAAAEAAAABAAAABAAAAAQAAAAEAAAABAAAAAEAAAADAAAAAwAAAAMAAAAFAAAABQAAAAUAAAAFAAAABQAAAAIAAAACAAAABAAAAAQAAAAEAAAABAAAAAIAAAACAAAAAgAAAAIAAAADAAAAAwAAAAMAAAAFAAAABQAAAAUAAAAFAAAABQAAAAMAAAADAAAAAwAAAAEAAAADAAAAAwAAAAMAAAACAAAAAgAAAAIAAAACAAAAAgAAAAIAAAABAAAAEAAAABAAAAAQAAAAEAAAABAAAAAQAAAAEAAAABAAAAAQAAAAEAAAABAAAAAQAAAAEAAAABAAAAAQAAAAEAAAAAEAAAACAAAAAgAAAAEAAAABAAAAAgAAAAIAAAACAAAAAgAAAAEAAAADAAAAAwAAAAMAAAACAAAAAgAAAAIAAAACAAAAAQAAAAMAAAADAAAAAwAAAAMAAAADAAAAAwAAAAIAAAACAAAAAQAAAAIAAAACAAAAAgAAAAIAAAABAAAAAQAAAAEAAAABAAAAAQAAAAEAAAACAAAAAgAAAAEAAAABAAAAAQAAAAEAAAADAAAAAwAAAAMAAAADAAAAAwAAAAMAAAACAAAAAgAAAAEAAAABAAAAAQAAAAEAAAACAAAAAgAAAAEAAAABAAAAAQAAAAEAAAABAAAAAgAAAAIAAAADAAAAAwAAAAMAAAABAAAAAgAAAAIAAAABAAAAAQAAAAMAAAADAAAAAwAAAAEAAAACAAAAAgAAAAIAAAACAAAAAgAAAAIAAAACAAAAAgAAAAEAAAACAAAAAgAAAAEAAAACAAAAAgAAAAQAAAAEAAAABAAAAAQAAAACAAAAAgAAAAEAAAACAAAAAgAAAAIAAAACAAAAAgAAAAIAAAAFAAAABQAAAAUAAAAFAAAABQAAAAYAAAAGAAAABgAAAAYAAAAGAAAABgAAAAIAAAACAAAABAAAAAQAAAAEAAAABAAAAAIAAAACAAAABAAAAAQAAAAEAAAABAAAAAIAAAACAAAAAQAAAAMAAAADAAAAAwAAAAEAAAABAAAABQAAAAUAAAAFAAAABQAAAAUAAAABAAAAAQAAAAEAAAACAAAAAgAAAAIAAAACAAAAAQAAAAYAAAAGAAAABgAAAAYAAAAGAAAABgAAAAEAAAAHAAAABwAAAAcAAAAHAAAABwAAAAcAAAAHAAAAAgAAAAIAAAACAAAAAgAAAAEAAAACAAAAAgAAAAEAAAAEAAAABAAAAAQAAAAEAAAAAQAAAAEAAAABAAAAAQAAAAIAAAACAAAAAgAAAAIAAAACAAAAAgAAAAMAAAADAAAAAwAAAAIAAAACAAAAAgAAAAIAAAABAAAAAgAAAAIAAAACAAAAAgAAAAEAAAABAAAAAQAAAAIAAAACAAAAAwAAAAMAAAADAAAAAwAAAAMAAAADAAAAAQAAAAUAAAAFAAAABQAAAAUAAAAFAAAAAQAAAAIAAAACAAAAAwAAAAMAAAADAAAAAgAAAAIAAAAIAAAACAAAAAgAAAAIAAAACAAAAAgAAAAIAAAACAAAAAEAAAAFAAAABQAAAAUAAAAFAAAABQAAAAIAAAACAAAAAQAAAAIAAAACAAAAAQAAAAIAAAACAAAAAgAAAAIAAAABAAAAAgAAAAIAAAABAAAAAQAAAAEAAAABAAAAAwAAAAMAAAADAAAAAgAAAAIAAAABAAAAAQAAAAEAAAACAAAAAgAAAAIAAAACAAAAAgAAAAIAAAABAAAAAgAAAAIAAAAFAAAABQAAAAUAAAAFAAAABQAAAAIAAAACAAAAAQAAAAIAAAACAAAAAgAAAAIAAAABAAAAAgAAAAIAAAACAAAAAgAAAAMAAAADAAAAAwAAAAEAAAABAAAAAgAAAAIAAAABAAAAAgAAAAIAAAABAAAAAQAAAAEAAAACAAAAAgAAAAEAAAABAAAAAgAAAAIAAAACAAAAAgAAABAAAAAQAAAAEAAAABAAAAAQAAAAEAAAABAAAAAQAAAAEAAAABAAAAAQAAAAEAAAABAAAAAQAAAAEAAAABAAAAABAAAAAQAAAAQAAAAEAAAABAAAAAQAAAACAAAAAgAAAAEAAAACAAAAAgAAAAEAAAACAAAAAgAAAAQAAAAEAAAABAAAAAQAAAABAAAAAwAAAAMAAAADAAAAAQAAAAEAAAACAAAAAgAAAAIAAAACAAAAAwAAAAMAAAADAAAAAgAAAAIAAAABAAAAAQAAAAEAAAABAAAAAQAAAAEAAAADAAAAAwAAAAMAAAABAAAAAgAAAAIAAAABAAAAAwAAAAMAAAADAAAABAAAAAQAAAAEAAAABAAAAAYAAAAGAAAABgAAAAYAAAAGAAAABgAAAAMAAAADAAAAAwAAAAIAAAACAAAAAQAAAAMAAAADAAAAAwAAAAIAAAACAAAAAQAAAAEAAAABAAAAAgAAAAIAAAABAAAAAgAAAAIAAAABAAAAAgAAAAIAAAABAAAAAwAAAAMAAAADAAAAAgAAAAIAAAABAAAAAQAAAAIAAAACAAAABgAAAAYAAAAGAAAABgAAAAYAAAAGAAAAAQAAAAIAAAACAAAAAgAAAAIAAAACAAAAAgAAAAIAAAACAAAAAQAAAAEAAAAEAAAABAAAAAQAAAAEAAAABAAAAAQAAAAEAAAABAAAAAMAAAADAAAAAwAAAAIAAAACAAAAAgAAAAIAAAABAAAAAQAAAAIAAAACAAAAAwAAAAMAAAADAAAAAQAAAAEAAAABAAAAAQAAAAIAAAACAAAAAQAAAAEAAAABAAAAAQAAAAEAAAACAAAAAgAAAAEAAAABAAAAAQAAAAIAAAACAAAAAgAAAAIAAAABAAAAAQAAAAIAAAACAAAAAwAAAAMAAAADAAAAAQAAAAEAAAABAAAAAQAAAAIAAAACAAAAAwAAAAMAAAADAAAAAQAAAAEAAAADAAAAAwAAAAMAAAABAAAAAQAAAAEAAAABAAAAAgAAAAIAAAABAAAAAQAAAAEAAAABAAAAAgAAAAIAAAABAAAAAQAAAAIAAAACAAAABQAAAAUAAAAFAAAABQAAAAUAAAACAAAAAgAAAAEAAAABAAAAAgAAAAIAAAABAAAAAgAAAAIAAAABAAAAAQAAAAEAAAABAAAAAQAAAAEAAAABAAAAAgAAAAIAAAABAAAAAwAAAAMAAAADAAAAAwAAAAMAAAADAAAAAgAAAAIAAAABAAAAAgAAAAIAAAADAAAAAwAAAAMAAAACAAAAAgAAAAIAAAACAAAAAQAAAAEAAAABAAAAAgAAAAIAAAACAAAAAgAAAAMAAAADAAAAAwAAAAIAAAACAAAAAgAAAAIAAAABAAAAAgAAAAIAAAACAAAAAgAAAAEAAAABAAAAAQAAAAMAAAADAAAAAwAAAAEAAAABAAAAAwAAAAMAAAADAAAAAQAAAAEAAAABAAAAAQAAAAEAAAACAAAAAgAAAAEAAAABAAAAAgAAAAIAAAABAAAAAgAAAAIAAAABAAAAAQAAAAIAAAACAAAAAgAAAAIAAAAEAAAABAAAAAQAAAAEAAAAAgAAAAIAAAABAAAAAQAAAAIAAAACAAAAAQAAAAEAAAACAAAAAgAAAAEAAAACAAAAAgAAAAEAAAACAAAAAgAAAAEAAAACAAAAAgAAAAIAAAACAAAAAgAAAAIAAAAFAAAABQAAAAUAAAAFAAAABQAAAAEAAAADAAAAAwAAAAMAAAABAAAAAwAAAAMAAAADAAAAAgAAAAIAAAABAAAAAQAAAAEAAAADAAAAAwAAAAMAAAACAAAAAgAAAAIAAAACAAAAAQAAAAEAAAABAAAAAQAAAAMAAAADAAAAAwAAAAIAAAACAAAAAQAAAAEAAAABAAAAAQAAAAMAAAADAAAAAwAAAAEAAAABAAAAAgAAAAIAAAACAAAAAgAAAAIAAAACAAAAAQAAAAEAAAABAAAAAQAAAAIAAAACAAAAAgAAAAIAAAABAAAAAQAAAAIAAAACAAAAAwAAAAMAAAADAAAAAQAAAAIAAAACAAAAAQAAAAEAAAABAAAAAgAAAAIAAAABAAAAAQAAAAEAAAABAAAAAQAAAAMAAAADAAAAAwAAAAMAAAADAAAAAwAAAAEAAAADAAAAAwAAAAMAAAABAAAAAgAAAAIAAAACAAAAAgAAAAEAAAACAAAAAgAAAAIAAAACAAAAAwAAAAMAAAADAAAAAgAAAAIAAAABAAAAAgAAAAIAAAABAAAAAQAAAAEAAAABAAAAAQAAAAIAAAACAAAAAgAAAAIAAAACAAAAAgAAAAEAAAABAAAAAQAAAAMAAAADAAAAAwAAAAEAAAABAAAAAgAAAAIAAAABAAAAAwAAAAMAAAADAAAAAQAAAAMAAAADAAAAAwAAAAEAAAACAAAAAgAAAAIAAAACAAAAAgAAAAIAAAABAAAAAgAAAAIAAAABAAAAAgAAAAIAAAABAAAAAQAAAAEAAAACAAAAAgAAAAIAAAACAAAAAwAAAAMAAAADAAAAAgAAAAIAAAABAAAAAgAAAAIAAAABAAAAAQAAAAEAAAABAAAAAgAAAAIAAAABAAAAAQAAAAEAAAABAAAAAQAAAAEAAAABAAAAAgAAAAIAAAABAAAAAQAAAAIAAAACAAAAAQAAAAEAAAADAAAAAwAAAAMAAAABAAAAAQAAAAIAAAACAAAAAQAAAAEAAAABAAAAAQAAAAIAAAACAAAAAQAAAAIAAAACAAAAAQAAAAEAAAADAAAAAwAAAAMAAAABAAAAAwAAAAMAAAADAAAAAQAAAAEAAAACAAAAAgAAAAIAAAACAAAAAQAAAAEAAAACAAAAAgAAAAEAAAABAAAAAgAAAAIAAAABAAAAAQAAAAMAAAADAAAAAwAAAAIAAAACAAAAAQAAAAEAAAABAAAABAAAAAQAAAAEAAAABAAAAAIAAAACAAAAAQAAAAEAAAABAAAAAQAAAAEAAAACAAAAAgAAAAIAAAACAAAAAQAAAAEAAAACAAAAAgAAAAsAAAALAAAACwAAAAsAAAALAAAACwAAAAsAAAALAAAACwAAAAsAAAALAAAAAgAAAAIAAAAEAAAABAAAAAQAAAAEAAAAAwAAAAMAAAADAAAAAQAAAAIAAAACAAAAAQAAAAIAAAACAAAAAgAAAAIAAAADAAAAAwAAAAMAAAABAAAAAQAAAAIAAAACAAAAAQAAAAIAAAACAAAAAwAAAAMAAAADAAAAAwAAAAMAAAADAAAAAgAAAAIAAAAGAAAABgAAAAYAAAAGAAAABgAAAAYAAAACAAAAAgAAAAIAAAACAAAAAgAAAAIAAAACAAAAAgAAAAIAAAACAAAAAgAAAAIAAAACAAAAAgAAAAIAAAACAAAAAQAAAAEAAAABAAAAAQAAAAIAAAACAAAAAQAAAAEAAAACAAAAAgAAAAEAAAADAAAAAwAAAAMAAAACAAAAAgAAAAIAAAACAAAAAQAAAAIAAAACAAAABAAAAAQAAAAEAAAABAAAAAEAAAACAAAAAgAAAAEAAAABAAAAAQAAAAEAAAACAAAAAgAAAAEAAAABAAAAAQAAAAEAAAABAAAAAgAAAAIAAAACAAAAAgAAAAEAAAABAAAAAgAAAAIAAAABAAAAAQAAAAMAAAADAAAAAwAAAAEAAAABAAAAAQAAAAEAAAABAAAAAQAAAAEAAAACAAAAAgAAAAEAAAABAAAAAQAAAAEAAAABAAAAAQAAAAEAAAABAAAAAQAAAAEAAAABAAAAAQAAAAMAAAADAAAAAwAAAAEAAAABAAAAAQAAAAMAAAADAAAAAwAAAAMAAAADAAAAAwAAAAEAAAABAAAAAQAAAAEAAAABAAAABAAAAAQAAAAEAAAABAAAAAMAAAADAAAAAwAAAAIAAAACAAAAAQAAAAEAAAABAAAAAgAAAAIAAAACAAAAAgAAAAEAAAABAAAAAQAAAAIAAAACAAAAAQAAAAEAAAABAAAAAQAAAAMAAAADAAAAAwAAAAIAAAACAAAAAQAAAAEAAAABAAAAAgAAAAIAAAABAAAAAQAAAAEAAAABAAAAAQAAAAIAAAACAAAAAgAAAAIAAAAEAAAABAAAAAQAAAAEAAAAAQAAAAEAAAACAAAAAgAAAAEAAAABAAAAAwAAAAMAAAADAAAAAQAAAAEAAAABAAAAAQAAAAIAAAACAAAAAQAAAAIAAAACAAAAAQAAAAEAAAABAAAAAgAAAAIAAAACAAAAAgAAAAIAAAACAAAAAQAAAAIAAAACAAAAAQAAAAIAAAACAAAAAQAAAAEAAAABAAAAAgAAAAIAAAACAAAAAgAAAAIAAAACAAAAAQAAAAIAAAACAAAAAQAAAAIAAAACAAAAAQAAAAEAAAABAAAAAQAAAAIAAAACAAAAAgAAAAIAAAACAAAAAgAAAAMAAAADAAAAAwAAAAEAAAABAAAAAQAAAAMAAAADAAAAAwAAAAIAAAACAAAAAgAAAAIAAAACAAAAAgAAAAMAAAADAAAAAwAAAAEAAAABAAAAAgAAAAIAAAABAAAAAQAAAAIAAAACAAAAAgAAAAIAAAAGAAAABgAAAAYAAAAGAAAABgAAAAYAAAACAAAAAgAAAAIAAAACAAAAAgAAAAIAAAACAAAAAgAAAAEAAAABAAAAAQAAAAEAAAABAAAAAQAAAAMAAAADAAAAAwAAAAIAAAACAAAAAQAAAAEAAAACAAAAAgAAAAIAAAACAAAAAQAAAAEAAAABAAAAAQAAAAEAAAABAAAAAQAAAAEAAAABAAAAAQAAAAQAAAAEAAAABAAAAAQAAAACAAAAAgAAAAEAAAABAAAAAQAAAAIAAAACAAAAAQAAAAUAAAAFAAAABQAAAAUAAAAFAAAAAQAAAAIAAAACAAAAAwAAAAMAAAADAAAAAgAAAAIAAAABAAAAAgAAAAIAAAABAAAAAgAAAAIAAAACAAAAAgAAAAIAAAACAAAAAgAAAAIAAAABAAAAAgAAAAIAAAACAAAAAgAAAAEAAAACAAAAAgAAAAMAAAADAAAAAwAAAAEAAAABAAAAAQAAAAEAAAACAAAAAgAAAAEAAAADAAAAAwAAAAMAAAABAAAAAQAAAAMAAAADAAAAAwAAAAEAAAACAAAAAgAAAAEAAAABAAAAAQAAAAEAAAABAAAAAQAAAAIAAAACAAAAAQAAAAMAAAADAAAAAwAAAAIAAAACAAAAAQAAAAEAAAABAAAAAQAAAAEAAAABAAAAAgAAAAIAAAACAAAAAgAAAAIAAAACAAAAAQAAAAEAAAACAAAAAgAAAAEAAAACAAAAAgAAAAEAAAABAAAAAgAAAAIAAAACAAAAAgAAAAUAAAAFAAAABQAAAAUAAAAFAAAAAgAAAAIAAAABAAAAAgAAAAIAAAABAAAAAgAAAAIAAAABAAAAAwAAAAMAAAADAAAABAAAAAQAAAAEAAAABAAAAAMAAAADAAAAAwAAAAEAAAABAAAAAgAAAAIAAAABAAAAAQAAAAIAAAACAAAAAQAAAAEAAAABAAAABAAAAAQAAAAEAAAABAAAAAEAAAADAAAAAwAAAAMAAAABAAAAAwAAAAMAAAADAAAAAQAAAAIAAAACAAAAAgAAAAIAAAACAAAAAgAAAAEAAAABAAAAAgAAAAIAAAABAAAAAwAAAAMAAAADAAAAAQAAAAMAAAADAAAAAwAAAAYAAAAGAAAABgAAAAYAAAAGAAAABgAAAAEAAAABAAAAAwAAAAMAAAADAAAAAgAAAAIAAAACAAAAAgAAAAIAAAACAAAAAQAAAAEAAAABAAAAAQAAAAEAAAABAAAAAgAAAAIAAAABAAAABgAAAAYAAAAGAAAABgAAAAYAAAAGAAAABAAAAAQAAAAEAAAABAAAAAIAAAACAAAAAgAAAAIAAAABAAAAAQAAAAEAAAACAAAAAgAAAAEAAAABAAAAAQAAAAMAAAADAAAAAwAAAAEAAAADAAAAAwAAAAMAAAABAAAAAQAAAAIAAAACAAAAAgAAAAIAAAACAAAAAgAAAAIAAAACAAAAAQAAAAEAAAABAAAAAgAAAAIAAAABAAAAAgAAAAIAAAACAAAAAgAAAAMAAAADAAAAAwAAAAIAAAACAAAAAQAAAAoAAAAKAAAACgAAAAoAAAAKAAAACgAAAAoAAAAKAAAACgAAAAoAAAAHAAAABwAAAAcAAAAHAAAABwAAAAcAAAAHAAAAAQAAAAIAAAACAAAAAQAAAAMAAAADAAAAAwAAAAIAAAACAAAAAQAAAAQAAAAEAAAABAAAAAQAAAADAAAAAwAAAAMAAAABAAAAAwAAAAMAAAADAAAAAQAAAAEAAAABAAAAAgAAAAIAAAABAAAAAQAAAAIAAAACAAAAAQAAAAIAAAACAAAAAQAAAAIAAAACAAAAAQAAAAEAAAAFAAAABQAAAAUAAAAFAAAABQAAAAIAAAACAAAAAQAAAAMAAAADAAAAAwAAAAEAAAAEAAAABAAAAAQAAAAEAAAAAgAAAAIAAAACAAAAAgAAAAIAAAACAAAAAQAAAAEAAAABAAAAAQAAAAQAAAAEAAAABAAAAAQAAAACAAAAAgAAAAEAAAACAAAAAgAAAAEAAAABAAAAAQAAAAEAAAABAAAAAgAAAAIAAAACAAAAAgAAAAIAAAACAAAAAwAAAAMAAAADAAAAAgAAAAIAAAABAAAABAAAAAQAAAAEAAAABAAAAAMAAAADAAAAAwAAAAQAAAAEAAAABAAAAAQAAAABAAAAAgAAAAIAAAACAAAAAgAAAAEAAAABAAAAAgAAAAIAAAABAAAAAgAAAAIAAAABAAAAAgAAAAIAAAABAAAAAwAAAAMAAAADAAAAAgAAAAIAAAACAAAAAgAAAAEAAAABAAAAAQAAAAIAAAACAAAABAAAAAQAAAAEAAAABAAAAAMAAAADAAAAAwAAAAEAAAACAAAAAgAAAAIAAAACAAAABgAAAAYAAAAGAAAABgAAAAYAAAAGAAAABQAAAAUAAAAFAAAABQAAAAUAAAABAAAAAwAAAAMAAAADAAAAAgAAAAIAAAADAAAAAwAAAAMAAAACAAAAAgAAAAgAAAAIAAAACAAAAAgAAAAIAAAACAAAAAgAAAAIAAAAAgAAAAIAAAABAAAAAQAAAAEAAAADAAAAAwAAAAMAAAABAAAAAQAAAAEAAAABAAAAAQAAAAEAAAACAAAAAgAAAAIAAAACAAAAAQAAAAEAAAACAAAAAgAAAAMAAAADAAAAAwAAAAMAAAADAAAAAwAAAAEAAAACAAAAAgAAAAEAAAACAAAAAgAAAAEAAAABAAAAAgAAAAIAAAABAAAAAgAAAAIAAAACAAAAAgAAAAIAAAACAAAAAQAAAAIAAAACAAAAAgAAAAIAAAABAAAAAQAAAAEAAAABAAAAAQAAAAEAAAACAAAAAgAAAAEAAAABAAAAAQAAAAMAAAADAAAAAwAAAAEAAAACAAAAAgAAAAEAAAADAAAAAwAAAAMAAAAGAAAABgAAAAYAAAAGAAAABgAAAAYAAAABAAAAAQAAAAEAAAABAAAAAgAAAAIAAAABAAAABQAAAAUAAAAFAAAABQAAAAUAAAABAAAAAQAAAAIAAAACAAAAAgAAAAIAAAABAAAAAQAAAAMAAAADAAAAAwAAAAEAAAACAAAAAgAAAAIAAAACAAAAAgAAAAIAAAACAAAAAgAAAAIAAAACAAAAAgAAAAIAAAACAAAAAgAAAAEAAAACAAAAAgAAAAIAAAACAAAAAgAAAAIAAAABAAAAAQAAAAMAAAADAAAAAwAAAAQAAAAEAAAABAAAAAQAAAABAAAAAQAAAAQAAAAEAAAABAAAAAQAAAACAAAAAgAAAAEAAAABAAAAAwAAAAMAAAADAAAAAQAAAAQAAAAEAAAABAAAAAQAAAABAAAAAQAAAAEAAAABAAAAAgAAAAIAAAABAAAAAwAAAAMAAAADAAAAAgAAAAIAAAABAAAAAgAAAAIAAAABAAAAAQAAAAEAAAABAAAAAQAAAAMAAAADAAAAAwAAAAEAAAACAAAAAgAAAAMAAAADAAAAAwAAAAEAAAABAAAAAgAAAAIAAAABAAAAAwAAAAMAAAADAAAAAQAAAAIAAAACAAAABAAAAAQAAAAEAAAABAAAAAEAAAACAAAAAgAAAAIAAAACAAAAAQAAAAIAAAACAAAAAgAAAAIAAAACAAAAAgAAAAEAAAABAAAAAgAAAAIAAAACAAAAAgAAAAQAAAAEAAAABAAAAAQAAAADAAAAAwAAAAMAAAAEAAAABAAAAAQAAAAEAAAAAQAAAAEAAAAEAAAABAAAAAQAAAAEAAAAAwAAAAMAAAADAAAAAgAAAAIAAAACAAAAAgAAAAIAAAACAAAAAwAAAAMAAAADAAAABQAAAAUAAAAFAAAABQAAAAUAAAABAAAAAQAAAAIAAAACAAAAAgAAAAIAAAACAAAAAgAAAAIAAAACAAAAAgAAAAIAAAABAAAAAQAAAAIAAAACAAAAAQAAAAEAAAABAAAAAgAAAAIAAAABAAAAAwAAAAMAAAADAAAAAQAAAAUAAAAFAAAABQAAAAUAAAAFAAAAAwAAAAMAAAADAAAAAgAAAAIAAAABAAAAAgAAAAIAAAACAAAAAgAAAAIAAAACAAAAAgAAAAIAAAAEAAAABAAAAAQAAAAEAAAAAQAAAAIAAAACAAAAAQAAAAEAAAACAAAAAgAAAAIAAAACAAAAAwAAAAMAAAADAAAAAgAAAAIAAAACAAAAAgAAAAUAAAAFAAAABQAAAAUAAAAFAAAAAgAAAAIAAAACAAAAAgAAAAIAAAACAAAAAgAAAAIAAAABAAAACAAAAAgAAAAIAAAACAAAAAgAAAAIAAAACAAAAAgAAAABAAAAAwAAAAMAAAADAAAAAQAAAAMAAAADAAAAAwAAAAEAAAABAAAAAQAAAAUAAAAFAAAABQAAAAUAAAAFAAAAAwAAAAMAAAADAAAABAAAAAQAAAAEAAAABAAAAAIAAAACAAAAAQAAAAIAAAACAAAAAgAAAAIAAAAEAAAABAAAAAQAAAAEAAAACAAAAAgAAAAIAAAACAAAAAgAAAAIAAAACAAAAAgAAAAEAAAABAAAAAQAAAAEAAAAAQAAAAEAAAABAAAAAwAAAAMAAAADAAAAAgAAAAIAAAACAAAAAgAAAAEAAAABAAAABQAAAAUAAAAFAAAABQAAAAUAAAABAAAAAQAAAAEAAAABAAAAAgAAAAIAAAACAAAAAgAAAAEAAAABAAAABQAAAAUAAAAFAAAABQAAAAUAAAACAAAAAgAAAAEAAAADAAAAAwAAAAMAAAABAAAAAQAAAAEAAAACAAAAAgAAAAEAAAACAAAAAgAAAAIAAAACAAAAAwAAAAMAAAADAAAAAQAAAAIAAAACAAAAAQAAAAEAAAACAAAAAgAAAAEAAAACAAAAAgAAAAIAAAACAAAAAgAAAAIAAAACAAAAAgAAAAEAAAACAAAAAgAAAAEAAAADAAAAAwAAAAMAAAABAAAAAQAAAAEAAAABAAAAAgAAAAIAAAAFAAAABQAAAAUAAAAFAAAABQAAAAEAAAAEAAAABAAAAAQAAAAEAAAAAQAAAAQAAAAEAAAABAAAAAQAAAABAAAAAQAAAAEAAAACAAAAAgAAAAIAAAACAAAAAQAAAAEAAAACAAAAAgAAAAEAAAACAAAAAgAAAAEAAAABAAAAAgAAAAIAAAABAAAAAwAAAAMAAAADAAAAAgAAAAIAAAABAAAAAgAAAAIAAAABAAAAAgAAAAIAAAABAAAAAQAAAAEAAAABAAAAAQAAAAIAAAACAAAAAgAAAAIAAAABAAAABAAAAAQAAAAEAAAABAAAAAEAAAAEAAAABAAAAAQAAAAEAAAAAQAAAAIAAAACAAAAAgAAAAIAAAAGAAAABgAAAAYAAAAGAAAABgAAAAYAAAAEAAAABAAAAAQAAAAEAAAAAQAAAAIAAAACAAAAAQAAAAIAAAACAAAAAgAAAAIAAAABAAAAAgAAAAIAAAACAAAAAgAAAAIAAAACAAAAAwAAAAMAAAADAAAAAwAAAAMAAAADAAAAAQAAAAEAAAABAAAAAgAAAAIAAAACAAAAAgAAAAIAAAACAAAAAgAAAAIAAAABAAAAAQAAAAUAAAAFAAAABQAAAAUAAAAFAAAAAQAAAAIAAAACAAAAAgAAAAIAAAABAAAAAQAAAAEAAAACAAAAAgAAAAEAAAADAAAAAwAAAAMAAAAEAAAABAAAAAQAAAAEAAAAAgAAAAIAAAACAAAAAgAAAAIAAAACAAAAAgAAAAIAAAACAAAAAgAAAAIAAAACAAAAAQAAAAEAAAABAAAAAgAAAAIAAAACAAAAAgAAAAQAAAAEAAAABAAAAAQAAAAEAAAABAAAAAQAAAAEAAAAAQAAAAYAAAAGAAAABgAAAAYAAAAGAAAABgAAAAcAAAAHAAAABwAAAAcAAAAHAAAABwAAAAcAAAACAAAAAgAAAAEAAAABAAAAAQAAAAUAAAAFAAAABQAAAAUAAAAFAAAAAQAAAAIAAAACAAAAAwAAAAMAAAADAAAAAQAAAAEAAAADAAAAAwAAAAMAAAABAAAABQAAAAUAAAAFAAAABQAAAAUAAAABAAAAAQAAAAEAAAABAAAAAgAAAAIAAAABAAAAAgAAAAIAAAACAAAAAgAAAAIAAAACAAAAAQAAAAIAAAACAAAAAgAAAAIAAAABAAAAAQAAAAEAAAADAAAAAwAAAAMAAAACAAAAAgAAAAIAAAACAAAAAgAAAAIAAAABAAAAAQAAAAIAAAACAAAAAgAAAAIAAAACAAAAAgAAAAEAAAABAAAAAQAAAAIAAAACAAAAAgAAAAIAAAABAAAABAAAAAQAAAAEAAAABAAAAAEAAAABAAAAAQAAAAgAAAAIAAAACAAAAAgAAAAIAAAACAAAAAgAAAAIAAAAAQAAAAIAAAACAAAAAQAAAAEAAAABAAAAAQAAAAIAAAACAAAAAQAAAAIAAAACAAAAAQAAAAEAAAABAAAAAQAAAAMAAAADAAAAAwAAAAEAAAABAAAAAgAAAAIAAAABAAAAAQAAAAIAAAACAAAAAQAAAAEAAAABAAAAAQAAAAEAAAACAAAAAgAAAAEAAAAFAAAABQAAAAUAAAAFAAAABQAAAAEAAAADAAAAAwAAAAMAAAADAAAAAwAAAAMAAAACAAAAAgAAAAIAAAACAAAAAQAAAAEAAAABAAAAAQAAAAIAAAACAAAAAQAAAAEAAAABAAAAAQAAAAIAAAACAAAAAQAAAAIAAAACAAAAAQAAAAEAAAACAAAAAgAAAAIAAAACAAAAAgAAAAIAAAABAAAAAgAAAAIAAAABAAAAAQAAAAEAAAACAAAAAgAAAAEAAAABAAAABAAAAAQAAAAEAAAABAAAAAIAAAACAAAAAQAAAAEAAAABAAAAAQAAAAIAAAACAAAAAQAAAAEAAAABAAAAAQAAAAEAAAABAAAAAQAAAAEAAAABAAAAAgAAAAIAAAACAAAAAgAAAAIAAAACAAAAAwAAAAMAAAADAAAAAgAAAAIAAAACAAAAAgAAAAEAAAABAAAAAQAAAAEAAAADAAAAAwAAAAMAAAACAAAAAgAAAAEAAAACAAAAAgAAAAEAAAABAAAAAQAAAAEAAAAEAAAABAAAAAQAAAAEAAAAAgAAAAIAAAABAAAAAQAAAAEAAAAFAAAABQAAAAUAAAAFAAAABQAAAAEAAAABAAAAAQAAAAEAAAABAAAAAQAAAAEAAAABAAAAAQAAAAEAAAABAAAAAQAAAAEAAAABAAAAAQAAAAIAAAACAAAAAQAAAAIAAAACAAAAAQAAAAIAAAACAAAAAgAAAAIAAAACAAAAAgAAAAEAAAABAAAAAgAAAAIAAAABAAAAAQAAAAYAAAAGAAAABgAAAAYAAAAGAAAABgAAAAEAAAACAAAAAgAAAAIAAAACAAAAAgAAAAIAAAACAAAAAgAAAAIAAAACAAAAAQAAAAUAAAAFAAAABQAAAAUAAAAFAAAAAwAAAAMAAAADAAAAAgAAAAIAAAABAAAAAQAAAAIAAAACAAAAAgAAAAIAAAACAAAAAgAAAAEAAAABAAAAAQAAAAIAAAACAAAAAQAAAAIAAAACAAAAAwAAAAMAAAADAAAAAQAAAAEAAAACAAAAAgAAAAIAAAACAAAABAAAAAQAAAAEAAAABAAAAAIAAAACAAAAAgAAAAIAAAABAAAAAQAAAAEAAAABAAAAAgAAAAIAAAABAAAAAQAAAAEAAAABAAAAAgAAAAIAAAABAAAAAgAAAAIAAAABAAAAAQAAAAUAAAAFAAAABQAAAAUAAAAFAAAAAQAAAAEAAAACAAAAAgAAAAUAAAAFAAAABQAAAAUAAAAFAAAAAgAAAAIAAAAIAAAACAAAAAgAAAAIAAAACAAAAAgAAAAIAAAACAAAAAIAAAACAAAAAQAAAAEAAAABAAAAAQAAAAQAAAAEAAAABAAAAAQAAAABAAAAAgAAAAIAAAACAAAAAgAAAAEAAAACAAAAAgAAAAEAAAABAAAAAgAAAAIAAAAGAAAABgAAAAYAAAAGAAAABgAAAAYAAAABAAAAAQAAAAIAAAACAAAAAQAAAAEAAAADAAAAAwAAAAMAAAABAAAAAgAAAAIAAAABAAAAAgAAAAIAAAACAAAAAgAAAAIAAAACAAAAAQAAAAEAAAABAAAAAQAAAAQAAAAEAAAABAAAAAQAAAABAAAAAQAAAAQAAAAEAAAABAAAAAQAAAAEAAAABAAAAAQAAAAEAAAAAgAAAAIAAAABAAAAAQAAAAMAAAADAAAAAwAAAAEAAAABAAAAAQAAAAEAAAACAAAAAgAAAAIAAAACAAAAAgAAAAIAAAACAAAAAgAAAAEAAAABAAAAAQAAAAQAAAAEAAAABAAAAAQAAAADAAAAAwAAAAMAAAABAAAAAQAAAAIAAAACAAAAAgAAAAIAAAACAAAAAgAAAAEAAAADAAAAAwAAAAMAAAABAAAAAQAAAAIAAAACAAAAAgAAAAIAAAADAAAAAwAAAAMAAAACAAAAAgAAAAIAAAACAAAAAgAAAAIAAAABAAAAAgAAAAIAAAABAAAAAQAAAAIAAAACAAAABAAAAAQAAAAEAAAABAAAAAEAAAADAAAAAwAAAAMAAAABAAAAAgAAAAIAAAACAAAAAgAAAAEAAAABAAAABAAAAAQAAAAEAAAABAAAAAEAAAABAAAAAgAAAAIAAAACAAAAAgAAAAIAAAACAAAABAAAAAQAAAAEAAAABAAAAAEAAAACAAAAAgAAAAEAAAABAAAAAQAAAAIAAAACAAAAAQAAAAEAAAACAAAAAgAAAAEAAAAGAAAABgAAAAYAAAAGAAAABgAAAAYAAAABAAAAAQAAAAQAAAAEAAAABAAAAAQAAAADAAAAAwAAAAMAAAADAAAAAwAAAAMAAAADAAAAAwAAAAMAAAANAAAADQAAAA0AAAANAAAADQAAAA0AAAANAAAADQAAAA0AAAANAAAADQAAAA0AAAANAAAAAQAAAAEAAAABAAAAAQAAAAQAAAAEAAAABAAAAAQAAAADAAAAAwAAAAMAAAABAAAAAgAAAAIAAAABAAAAAQAAAAEAAAACAAAAAgAAAAIAAAACAAAAEwAAABMAAAATAAAAEwAAABMAAAATAAAAEwAAABMAAAATAAAAEwAAABMAAAATAAAAEwAAABMAAAATAAAAEwAAABMAAAATAAAAEwAAAAEAAAABAAAAAgAAAAIAAAABAAAAAwAAAAMAAAADAAAAAQAAAAIAAAACAAAAAgAAAAIAAAACAAAAAgAAAAEAAAABAAAABgAAAAYAAAAGAAAABgAAAAYAAAAGAAAAAgAAAAIAAAABAAAAAgAAAAIAAAACAAAAAgAAAAIAAAACAAAAAQAAAAEAAAABAAAAAQAAAAEAAAACAAAAAgAAAAEAAAACAAAAAgAAAAMAAAADAAAAAwAAAAEAAAACAAAAAgAAAAEAAAABAAAAAwAAAAMAAAADAAAABAAAAAQAAAAEAAAABAAAAAEAAAABAAAAAwAAAAMAAAADAAAAAgAAAAIAAAABAAAAAQAAAAIAAAACAAAAAQAAAAEAAAABAAAAAQAAAAIAAAACAAAABQAAAAUAAAAFAAAABQAAAAUAAAAFAAAABQAAAAUAAAAFAAAABQAAAAEAAAABAAAAAQAAAAMAAAADAAAAAwAAAAMAAAADAAAAAwAAAAIAAAACAAAAAgAAAAIAAAADAAAAAwAAAAMAAAACAAAAAgAAAAEAAAABAAAAAQAAAAEAAAACAAAAAgAAAAEAAAABAAAAAQAAAAIAAAACAAAAAwAAAAMAAAADAAAAAgAAAAIAAAABAAAAAQAAAAEAAAACAAAAAgAAAAQAAAAEAAAABAAAAAQAAAABAAAAAQAAAAYAAAAGAAAABgAAAAYAAAAGAAAABgAAAAEAAAABAAAAAQAAAAIAAAACAAAABAAAAAQAAAAEAAAABAAAAAMAAAADAAAAAwAAAAEAAAACAAAAAgAAAAIAAAACAAAABAAAAAQAAAAEAAAABAAAAAEAAAACAAAAAgAAAAEAAAADAAAAAwAAAAMAAAABAAAAAwAAAAMAAAADAAAAAQAAAAIAAAACAAAAAQAAAAIAAAACAAAAAQAAAAEAAAABAAAAAQAAAAEAAAABAAAAAQAAAAMAAAADAAAAAwAAAAEAAAACAAAAAgAAAAIAAAACAAAAAQAAAAEAAAABAAAAAgAAAAIAAAACAAAAAgAAAAQAAAAEAAAABAAAAAQAAAABAAAAAQAAAAIAAAACAAAAAgAAAAIAAAABAAAAAQAAAAEAAAABAAAABAAAAAQAAAAEAAAABAAAAAIAAAACAAAAAQAAAAEAAAACAAAAAgAAAAEAAAABAAAAAQAAAAIAAAACAAAAAQAAAAIAAAACAAAAAQAAAAIAAAACAAAAAgAAAAIAAAABAAAABwAAAAcAAAAHAAAABwAAAAcAAAAHAAAABwAAAAEAAAABAAAAAgAAAAIAAAACAAAAAgAAAAEAAAABAAAAAgAAAAIAAAADAAAAAwAAAAMAAAACAAAAAgAAAAEAAAABAAAAAQAAAAIAAAACAAAAAgAAAAIAAAABAAAAAgAAAAIAAAABAAAAAgAAAAIAAAABAAAAAQAAAAIAAAACAAAAAQAAAAIAAAACAAAAAwAAAAMAAAADAAAAAQAAAAEAAAAEAAAABAAAAAQAAAAEAAAAAQAAAAEAAAABAAAAAQAAAAQAAAAEAAAABAAAAAQAAAABAAAAAgAAAAIAAAAEAAAABAAAAAQAAAAEAAAAAQAAAAEAAAABAAAAAQAAAAEAAAABAAAAAQAAAAIAAAACAAAAAQAAAAEAAAADAAAAAwAAAAMAAAABAAAAAQAAAAEAAAACAAAAAgAAAAEAAAABAAAAAgAAAAIAAAACAAAAAgAAAAIAAAACAAAABAAAAAQAAAAEAAAABAAAAAMAAAADAAAAAwAAAAUAAAAFAAAABQAAAAUAAAAFAAAAAgAAAAIAAAACAAAAAgAAAAQAAAAEAAAABAAAAAQAAAACAAAAAgAAAAEAAAABAAAAAgAAAAIAAAACAAAAAgAAAAEAAAADAAAAAwAAAAMAAAABAAAAAQAAAAQAAAAEAAAABAAAAAQAAAABAAAAAgAAAAIAAAABAAAAAQAAAAIAAAACAAAAAgAAAAIAAAABAAAAAgAAAAIAAAAEAAAABAAAAAQAAAAEAAAAAQAAAAIAAAACAAAABQAAAAUAAAAFAAAABQAAAAUAAAABAAAAAgAAAAIAAAADAAAAAwAAAAMAAAABAAAAAQAAAAQAAAAEAAAABAAAAAQAAAABAAAAAQAAAAEAAAABAAAAAQAAAAMAAAADAAAAAwAAAAEAAAABAAAAAQAAAAEAAAABAAAAAwAAAAMAAAADAAAAAQAAAAMAAAADAAAAAwAAAAIAAAACAAAAAgAAAAIAAAAHAAAABwAAAAcAAAAHAAAABwAAAAcAAAAHAAAAAQAAAAEAAAABAAAAAgAAAAIAAAABAAAAAwAAAAMAAAADAAAAAQAAAAEAAAACAAAAAgAAAAEAAAADAAAAAwAAAAMAAAACAAAAAgAAAAEAAAACAAAAAgAAAAEAAAABAAAAAgAAAAIAAAABAAAAAgAAAAIAAAACAAAAAgAAAAMAAAADAAAAAwAAAAEAAAADAAAAAwAAAAMAAAACAAAAAgAAAAEAAAABAAAAAgAAAAIAAAADAAAAAwAAAAMAAAABAAAAAQAAAAEAAAABAAAAAQAAAAIAAAACAAAAAQAAAAIAAAACAAAAAQAAAAIAAAACAAAAAQAAAAEAAAAFAAAABQAAAAUAAAAFAAAABQAAAAIAAAACAAAAAgAAAAIAAAADAAAAAwAAAAMAAAACAAAAAgAAAAIAAAACAAAAAQAAAAIAAAACAAAAAQAAAAQAAAAEAAAABAAAAAQAAAABAAAAAQAAAAEAAAABAAAAAQAAAAEAAAABAAAAAgAAAAIAAAACAAAAAgAAAAEAAAABAAAAAQAAAAEAAAABAAAAAgAAAAIAAAACAAAAAgAAAAIAAAACAAAAAQAAAAEAAAABAAAAAQAAAAYAAAAGAAAABgAAAAYAAAAGAAAABgAAAAEAAAABAAAAAQAAAAIAAAACAAAAAQAAAAIAAAACAAAAAgAAAAIAAAABAAAAAQAAAAEAAAACAAAAAgAAAAEAAAABAAAAAQAAAAIAAAACAAAAAQAAAAMAAAADAAAAAwAAAAMAAAADAAAAAwAAAAEAAAACAAAAAgAAAAEAAAACAAAAAgAAAAIAAAACAAAAAQAAAAIAAAACAAAAAgAAAAIAAAABAAAAAgAAAAIAAAABAAAAAQAAAAIAAAACAAAAAgAAAAIAAAACAAAAAgAAAAUAAAAFAAAABQAAAAUAAAAFAAAAAwAAAAMAAAADAAAAAQAAAAUAAAAFAAAABQAAAAUAAAAFAAAAAwAAAAMAAAADAAAAAQAAAAIAAAACAAAAAQAAAAEAAAACAAAAAgAAAAEAAAACAAAAAgAAAAEAAAAFAAAABQAAAAUAAAAFAAAABQAAAAMAAAADAAAAAwAAAAEAAAACAAAAAgAAAAMAAAADAAAAAwAAAAEAAAABAAAAAQAAAAEAAAABAAAAAgAAAAIAAAACAAAAAgAAAAEAAAADAAAAAwAAAAMAAAABAAAAAwAAAAMAAAADAAAAAQAAAAEAAAABAAAAAQAAAAEAAAACAAAAAgAAAAEAAAABAAAAAgAAAAIAAAADAAAAAwAAAAMAAAABAAAAAQAAAAEAAAABAAAAAgAAAAIAAAACAAAAAgAAAAEAAAABAAAAAQAAAAEAAAACAAAAAgAAAAEAAAABAAAAAQAAAAMAAAADAAAAAwAAAAEAAAABAAAAAQAAAAIAAAACAAAABAAAAAQAAAAEAAAABAAAAAEAAAACAAAAAgAAAAEAAAABAAAAAQAAAAEAAAABAAAAAQAAAAEAAAABAAAAAgAAAAIAAAABAAAAAwAAAAMAAAADAAAAAgAAAAIAAAABAAAAAQAAAAMAAAADAAAAAwAAAAQAAAAEAAAABAAAAAQAAAABAAAAAQAAAAEAAAACAAAAAgAAAAEAAAACAAAAAgAAAAEAAAACAAAAAgAAAAMAAAADAAAAAwAAAAEAAAABAAAAAQAAAAIAAAACAAAAAQAAAAUAAAAFAAAABQAAAAUAAAAFAAAAAQAAAAEAAAABAAAAAgAAAAIAAAABAAAAAQAAAAEAAAACAAAAAgAAAAEAAAADAAAAAwAAAAMAAAACAAAAAgAAAAEAAAAFAAAABQAAAAUAAAAFAAAABQAAAAIAAAACAAAAAgAAAAIAAAACAAAAAgAAAAEAAAAIAAAACAAAAAgAAAAIAAAACAAAAAgAAAAIAAAACAAAAAIAAAACAAAAAwAAAAMAAAADAAAAAQAAAAEAAAABAAAAAgAAAAIAAAABAAAAAgAAAAIAAAABAAAAAwAAAAMAAAADAAAAAwAAAAMAAAADAAAAAQAAAAIAAAACAAAAAgAAAAIAAAACAAAAAgAAAAMAAAADAAAAAwAAAAEAAAAEAAAABAAAAAQAAAAEAAAAAgAAAAIAAAABAAAABAAAAAQAAAAEAAAABAAAAAEAAAABAAAAAQAAAAIAAAACAAAAAgAAAAIAAAACAAAAAgAAAAEAAAAEAAAABAAAAAQAAAAEAAAAAQAAAAIAAAACAAAAAwAAAAMAAAADAAAAAgAAAAIAAAADAAAAAwAAAAMAAAACAAAAAgAAAAMAAAADAAAAAwAAAAIAAAACAAAAAgAAAAIAAAABAAAAAwAAAAMAAAADAAAAAwAAAAMAAAADAAAAAwAAAAMAAAADAAAAAgAAAAIAAAABAAAAAQAAAAEAAAABAAAAAgAAAAIAAAABAAAAAQAAAAEAAAABAAAAAQAAAAIAAAACAAAAAgAAAAIAAAABAAAAAQAAAAIAAAACAAAAAgAAAAIAAAACAAAAAgAAAAMAAAADAAAAAwAAAAEAAAACAAAAAgAAAAEAAAABAAAABAAAAAQAAAAEAAAABAAAAAIAAAACAAAAAQAAAAEAAAACAAAAAgAAAAMAAAADAAAAAwAAAAEAAAACAAAAAgAAAAEAAAABAAAAAgAAAAIAAAABAAAAAQAAAAIAAAACAAAAAQAAAAEAAAACAAAAAgAAAAEAAAACAAAAAgAAAAEAAAACAAAAAgAAAAEAAAABAAAAAQAAAAEAAAABAAAAAQAAAAEAAAADAAAAAwAAAAMAAAACAAAAAgAAAAMAAAADAAAAAwAAAAIAAAACAAAAAgAAAAIAAAABAAAAAQAAAAIAAAACAAAAAQAAAAEAAAACAAAAAgAAAAIAAAACAAAAAwAAAAMAAAADAAAAAQAAAAIAAAACAAAAAQAAAAEAAAABAAAAAgAAAAIAAAABAAAAAQAAAAEAAAACAAAAAgAAAAEAAAACAAAAAgAAAAIAAAACAAAAAQAAAAEAAAAEAAAABAAAAAQAAAAEAAAAAQAAAAEAAAADAAAAAwAAAAMAAAACAAAAAgAAAAEAAAADAAAAAwAAAAMAAAABAAAAAQAAAAIAAAACAAAAAQAAAAEAAAABAAAAAQAAAAEAAAABAAAAAQAAAAIAAAACAAAAAQAAAAEAAAABAAAAAQAAAAEAAAACAAAAAgAAAAEAAAABAAAAAgAAAAIAAAABAAAAAgAAAAIAAAABAAAAAQAAAAEAAAAFAAAABQAAAAUAAAAFAAAABQAAAAMAAAADAAAAAwAAAAIAAAACAAAAAQAAAAIAAAACAAAAAQAAAAEAAAABAAAAAQAAAAEAAAABAAAAAwAAAAMAAAADAAAAAgAAAAIAAAABAAAAAQAAAAIAAAACAAAAAQAAAAMAAAADAAAAAwAAAAIAAAACAAAAAgAAAAIAAAADAAAAAwAAAAMAAAACAAAAAgAAAAEAAAABAAAAAgAAAAIAAAABAAAAAgAAAAIAAAABAAAAAQAAAAEAAAADAAAAAwAAAAMAAAACAAAAAgAAAAEAAAABAAAAAgAAAAIAAAABAAAAAgAAAAIAAAABAAAAAgAAAAIAAAABAAAAAgAAAAIAAAACAAAAAgAAAAIAAAACAAAAAgAAAAIAAAABAAAAAwAAAAMAAAADAAAAAgAAAAIAAAACAAAAAgAAAAMAAAADAAAAAwAAAAEAAAABAAAAAgAAAAIAAAACAAAAAgAAAAEAAAACAAAAAgAAAAEAAAABAAAAAgAAAAIAAAACAAAAAgAAAAEAAAABAAAAAQAAAAIAAAACAAAAAgAAAAIAAAACAAAAAgAAAAEAAAACAAAAAgAAAAEAAAABAAAAAgAAAAIAAAABAAAAAgAAAAIAAAACAAAAAgAAAAIAAAACAAAAAgAAAAIAAAACAAAAAgAAAAMAAAADAAAAAwAAAAIAAAACAAAAAgAAAAIAAAADAAAAAwAAAAMAAAACAAAAAgAAAAIAAAACAAAAAgAAAAIAAAABAAAAAQAAAAUAAAAFAAAABQAAAAUAAAAFAAAAAQAAAAcAAAAHAAAABwAAAAcAAAAHAAAABwAAAAcAAAABAAAAAwAAAAMAAAADAAAAAQAAAAEAAAABAAAAAQAAAAEAAAACAAAAAgAAAAMAAAADAAAAAwAAAAEAAAABAAAAAQAAAAEAAAABAAAAAQAAAAEAAAACAAAAAgAAAAEAAAABAAAAAQAAAAMAAAADAAAAAwAAAAEAAAABAAAAAwAAAAMAAAADAAAAAQAAAAEAAAABAAAAAgAAAAIAAAABAAAAAQAAAAIAAAACAAAAAQAAAAEAAAABAAAAAgAAAAIAAAADAAAAAwAAAAMAAAABAAAAAgAAAAIAAAACAAAAAgAAAAEAAAACAAAAAgAAAAIAAAACAAAAAQAAAAEAAAABAAAAAQAAAAIAAAACAAAAAgAAAAIAAAACAAAAAgAAAAEAAAABAAAABgAAAAYAAAAGAAAABgAAAAYAAAAGAAAAAgAAAAIAAAABAAAAAQAAAAEAAAABAAAABAAAAAQAAAAEAAAABAAAAAEAAAACAAAAAgAAAAIAAAACAAAAAgAAAAIAAAADAAAAAwAAAAMAAAABAAAAAQAAAAQAAAAEAAAABAAAAAQAAAACAAAAAgAAAAEAAAABAAAABAAAAAQAAAAEAAAABAAAAAMAAAADAAAAAwAAAAEAAAABAAAAAQAAAAEAAAACAAAAAgAAAAEAAAABAAAAAQAAAAIAAAACAAAAAQAAAAEAAAABAAAAAgAAAAIAAAAEAAAABAAAAAQAAAAEAAAAAQAAAAEAAAADAAAAAwAAAAMAAAADAAAAAwAAAAMAAAABAAAAAgAAAAIAAAADAAAAAwAAAAMAAAACAAAAAgAAAAQAAAAEAAAABAAAAAQAAAABAAAAAgAAAAIAAAACAAAAAgAAAAEAAAABAAAAAQAAAAIAAAACAAAAAwAAAAMAAAADAAAAAwAAAAMAAAADAAAAAQAAAAEAAAACAAAAAgAAAAIAAAACAAAAAgAAAAIAAAABAAAAAQAAAAUAAAAFAAAABQAAAAUAAAAFAAAAAgAAAAIAAAABAAAAAQAAAAMAAAADAAAAAwAAAAEAAAACAAAAAgAAAAMAAAADAAAAAwAAAAEAAAACAAAAAgAAAAEAAAABAAAAAgAAAAIAAAABAAAAAgAAAAIAAAACAAAAAgAAAAIAAAACAAAAAgAAAAIAAAACAAAAAgAAAAEAAAABAAAAAgAAAAIAAAABAAAAAQAAAAIAAAACAAAAAQAAAAEAAAAEAAAABAAAAAQAAAAEAAAAAwAAAAMAAAADAAAAAwAAAAMAAAADAAAAAgAAAAIAAAABAAAAAQAAAAQAAAAEAAAABAAAAAQAAAABAAAAAgAAAAIAAAABAAAAAQAAAAEAAAACAAAAAgAAAAIAAAACAAAAAgAAAAIAAAACAAAAAgAAAAEAAAABAAAAAwAAAAMAAAADAAAAAQAAAAIAAAACAAAAAQAAAAEAAAABAAAAAQAAAAEAAAACAAAAAgAAAAEAAAABAAAAAQAAAAIAAAACAAAAAQAAAAEAAAACAAAAAgAAAAEAAAACAAAAAgAAAAEAAAABAAAAAQAAAAEAAAABAAAAAQAAAAEAAAACAAAAAgAAAAMAAAADAAAAAwAAAAIAAAACAAAAAQAAAAMAAAADAAAAAwAAAAEAAAACAAAAAgAAAAEAAAADAAAAAwAAAAMAAAABAAAAAQAAAAEAAAACAAAAAgAAAAUAAAAFAAAABQAAAAUAAAAFAAAAAQAAAAIAAAACAAAAAQAAAAIAAAACAAAAAQAAAAMAAAADAAAAAwAAAAIAAAACAAAAAgAAAAIAAAADAAAAAwAAAAMAAAADAAAAAwAAAAMAAAACAAAAAgAAAAYAAAAGAAAABgAAAAYAAAAGAAAABgAAAAEAAAACAAAAAgAAAAMAAAADAAAAAwAAAAEAAAABAAAAAgAAAAIAAAABAAAAAwAAAAMAAAADAAAAAQAAAAEAAAABAAAAAQAAAAMAAAADAAAAAwAAAAEAAAAFAAAABQAAAAUAAAAFAAAABQAAAAIAAAACAAAAAQAAAAIAAAACAAAAAQAAAAEAAAABAAAAAgAAAAIAAAABAAAAAQAAAAMAAAADAAAAAwAAAAIAAAACAAAAAQAAAAIAAAACAAAAAgAAAAIAAAACAAAAAgAAAAEAAAACAAAAAgAAAAEAAAACAAAAAgAAAAMAAAADAAAAAwAAAAEAAAABAAAAAQAAAAIAAAACAAAAAQAAAAEAAAACAAAAAgAAAAoAAAAKAAAACgAAAAoAAAAKAAAACgAAAAoAAAAKAAAACgAAAAoAAAADAAAAAwAAAAMAAAABAAAAAwAAAAMAAAADAAAAAQAAAAEAAAABAAAAAQAAAAIAAAACAAAAAgAAAAIAAAACAAAAAgAAAAEAAAACAAAAAgAAAAEAAAABAAAAAQAAAAMAAAADAAAAAwAAAAIAAAACAAAAAgAAAAIAAAAHAAAABwAAAAcAAAAHAAAABwAAAAcAAAAHAAAAAgAAAAIAAAABAAAAAQAAAAEAAAACAAAAAgAAAAEAAAADAAAAAwAAAAMAAAABAAAAAgAAAAIAAAABAAAAAQAAAAEAAAABAAAABAAAAAQAAAAEAAAABAAAAAYAAAAGAAAABgAAAAYAAAAGAAAABgAAAAIAAAACAAAAAQAAAAIAAAACAAAAAQAAAAEAAAACAAAAAgAAAAUAAAAFAAAABQAAAAUAAAAFAAAAAgAAAAIAAAABAAAAAgAAAAIAAAADAAAAAwAAAAMAAAACAAAAAgAAAAIAAAACAAAAAQAAAAEAAAADAAAAAwAAAAMAAAACAAAAAgAAAAMAAAADAAAAAwAAAAEAAAABAAAAAQAAAAIAAAACAAAAAQAAAAEAAAAEAAAABAAAAAQAAAAEAAAAAQAAAAEAAAABAAAAAQAAAAMAAAADAAAAAwAAAAQAAAAEAAAABAAAAAQAAAABAAAAAQAAAAEAAAACAAAAAgAAAAEAAAADAAAAAwAAAAMAAAABAAAAAQAAAAIAAAACAAAAAQAAAAIAAAACAAAAAQAAAAEAAAACAAAAAgAAAAEAAAACAAAAAgAAAAEAAAADAAAAAwAAAAMAAAABAAAAAgAAAAIAAAABAAAAAQAAAAEAAAACAAAAAgAAAAEAAAACAAAAAgAAAAMAAAADAAAAAwAAAAEAAAABAAAAAgAAAAIAAAABAAAAAQAAAAEAAAACAAAAAgAAAAEAAAADAAAAAwAAAAMAAAACAAAAAgAAAAEAAAABAAAAAQAAAAIAAAACAAAAAQAAAAEAAAABAAAAAgAAAAIAAAACAAAAAgAAAAEAAAABAAAAAwAAAAMAAAADAAAAAQAAAAEAAAABAAAABgAAAAYAAAAGAAAABgAAAAYAAAAGAAAAAQAAAAIAAAACAAAAAQAAAAIAAAACAAAAAQAAAAEAAAADAAAAAwAAAAMAAAACAAAAAgAAAAMAAAADAAAAAwAAAAEAAAABAAAAAgAAAAIAAAACAAAAAgAAAAEAAAABAAAAAQAAAAEAAAABAAAAAQAAAAIAAAACAAAAAQAAAAEAAAADAAAAAwAAAAMAAAAEAAAABAAAAAQAAAAEAAAAAQAAAAEAAAACAAAAAgAAAAEAAAABAAAAAQAAAAsAAAALAAAACwAAAAsAAAALAAAACwAAAAsAAAALAAAACwAAAAsAAAALAAAAAgAAAAIAAAACAAAAAgAAAAEAAAACAAAAAgAAAAEAAAABAAAAAgAAAAIAAAABAAAABgAAAAYAAAAGAAAABgAAAAYAAAAGAAAAAgAAAAIAAAABAAAAAQAAAAEAAAABAAAAAQAAAAEAAAADAAAAAwAAAAMAAAADAAAAAwAAAAMAAAACAAAAAgAAAAEAAAABAAAAAgAAAAIAAAABAAAAAQAAAAMAAAADAAAAAwAAAAIAAAACAAAAAgAAAAIAAAABAAAABgAAAAYAAAAGAAAABgAAAAYAAAAGAAAAAQAAAAMAAAADAAAAAwAAAAMAAAADAAAAAwAAAAQAAAAEAAAABAAAAAQAAAACAAAAAgAAAAEAAAABAAAAAQAAAAIAAAACAAAAAwAAAAMAAAADAAAAAQAAAAIAAAACAAAAAQAAAAQAAAAEAAAABAAAAAQAAAABAAAAAQAAAAEAAAACAAAAAgAAAAEAAAADAAAAAwAAAAMAAAACAAAAAgAAAAEAAAABAAAAAQAAAAIAAAACAAAAAQAAAAEAAAACAAAAAgAAAAEAAAAEAAAABAAAAAQAAAAEAAAAAQAAAAQAAAAEAAAABAAAAAQAAAABAAAABAAAAAQAAAAEAAAABAAAAAIAAAACAAAAAQAAAAIAAAACAAAAAQAAAAEAAAADAAAAAwAAAAMAAAADAAAAAwAAAAMAAAACAAAAAgAAAAIAAAACAAAAAgAAAAIAAAABAAAAAQAAAAEAAAABAAAAAgAAAAIAAAABAAAAAgAAAAIAAAACAAAAAgAAAAEAAAABAAAAAgAAAAIAAAABAAAABAAAAAQAAAAEAAAABAAAAAEAAAAFAAAABQAAAAUAAAAFAAAABQAAAAMAAAADAAAAAwAAABAAAAAQAAAAEAAAABAAAAAQAAAAEAAAABAAAAAQAAAAEAAAABAAAAAQAAAAEAAAABAAAAAQAAAAEAAAABAAAAABAAAAAQAAAAEAAAABAAAAAQAAAAEAAAABAAAAAQAAAAMAAAADAAAAAwAAAAEAAAABAAAAAgAAAAIAAAACAAAAAgAAAAIAAAACAAAAAwAAAAMAAAADAAAAAQAAAAIAAAACAAAAAQAAAAEAAAACAAAAAgAAAAEAAAABAAAAAQAAAAEAAAABAAAAAgAAAAIAAAADAAAAAwAAAAMAAAABAAAAAQAAAAMAAAADAAAAAwAAAAUAAAAFAAAABQAAAAUAAAAFAAAAAgAAAAIAAAABAAAAAwAAAAMAAAADAAAAAgAAAAIAAAACAAAAAgAAAAEAAAACAAAAAgAAAAIAAAACAAAAAgAAAAIAAAACAAAAAgAAAAMAAAADAAAAAwAAAAIAAAACAAAAAQAAAAMAAAADAAAAAwAAAAMAAAADAAAAAwAAAAEAAAABAAAAAQAAAAEAAAADAAAAAwAAAAMAAAABAAAAAgAAAAIAAAABAAAAAwAAAAMAAAADAAAAAgAAAAIAAAACAAAAAgAAAAIAAAACAAAAAgAAAAIAAAABAAAAAQAAAAIAAAACAAAAAQAAAAEAAAABAAAAAgAAAAIAAAACAAAAAgAAAAEAAAAFAAAABQAAAAUAAAAFAAAABQAAAAMAAAADAAAAAwAAAAQAAAAEAAAABAAAAAQAAAABAAAAAgAAAAIAAAACAAAAAgAAAAEAAAACAAAAAgAAAAQAAAAEAAAABAAAAAQAAAACAAAAAgAAAAEAAAABAAAAAQAAAAEAAAABAAAAAgAAAAIAAAACAAAAAgAAAAIAAAACAAAAAQAAAAEAAAABAAAAAQAAAAIAAAACAAAAAQAAAAEAAAABAAAAAQAAAAIAAAACAAAAAQAAAAEAAAADAAAAAwAAAAMAAAACAAAAAgAAAAIAAAACAAAAAQAAAAEAAAACAAAAAgAAAAIAAAACAAAABAAAAAQAAAAEAAAABAAAAAEAAAACAAAAAgAAAAEAAAAHAAAABwAAAAcAAAAHAAAABwAAAAcAAAAHAAAAAwAAAAMAAAADAAAAAQAAAAEAAAABAAAAAQAAAAIAAAACAAAAAgAAAAIAAAABAAAAAQAAAAEAAAACAAAAAgAAAAEAAAABAAAAAQAAAAEAAAABAAAAAQAAAAEAAAABAAAAAgAAAAIAAAADAAAAAwAAAAMAAAAEAAAABAAAAAQAAAAEAAAAAQAAAAEAAAABAAAAAQAAAAIAAAACAAAAAQAAAAEAAAANAAAADQAAAA0AAAANAAAADQAAAA0AAAANAAAADQAAAA0AAAANAAAADQAAAA0AAAANAAAAAQAAAAEAAAACAAAAAgAAAAEAAAABAAAAAgAAAAIAAAABAAAAAgAAAAIAAAABAAAAAgAAAAIAAAACAAAAAgAAAAMAAAADAAAAAwAAAAUAAAAFAAAABQAAAAUAAAAFAAAABQAAAAUAAAAFAAAABQAAAAUAAAABAAAAAgAAAAIAAAABAAAAAgAAAAIAAAACAAAAAgAAAAMAAAADAAAAAwAAAAEAAAACAAAAAgAAAAEAAAABAAAAAgAAAAIAAAACAAAAAgAAAAIAAAACAAAAAQAAAAIAAAACAAAAAgAAAAIAAAABAAAABAAAAAQAAAAEAAAABAAAAAIAAAACAAAAAQAAAAEAAAABAAAAAQAAAAEAAAABAAAAAQAAAAIAAAACAAAAAQAAAAIAAAACAAAAAQAAAAIAAAACAAAAAgAAAAIAAAABAAAAAgAAAAIAAAACAAAAAgAAAAEAAAACAAAAAgAAAAIAAAACAAAAAQAAAAEAAAACAAAAAgAAAAEAAAABAAAAAgAAAAIAAAAEAAAABAAAAAQAAAAEAAAAAgAAAAIAAAABAAAAAQAAAAEAAAABAAAAAQAAAAMAAAADAAAAAwAAAAEAAAACAAAAAgAAAAEAAAACAAAAAgAAAAEAAAABAAAAAQAAAAEAAAABAAAAAQAAAAIAAAACAAAABgAAAAYAAAAGAAAABgAAAAYAAAAGAAAAAgAAAAIAAAACAAAAAgAAAAIAAAACAAAAAwAAAAMAAAADAAAAAQAAAAEAAAABAAAAAQAAAAEAAAADAAAAAwAAAAMAAAABAAAAAgAAAAIAAAABAAAAAQAAAAIAAAACAAAAAgAAAAIAAAAEAAAABAAAAAQAAAAEAAAACAAAAAgAAAAIAAAACAAAAAgAAAAIAAAACAAAAAgAAAACAAAAAgAAAAIAAAACAAAAAgAAAAIAAAACAAAAAgAAAAEAAAABAAAAAgAAAAIAAAACAAAAAgAAAAMAAAADAAAAAwAAAAEAAAABAAAABAAAAAQAAAAEAAAABAAAAAIAAAACAAAAAQAAAAEAAAACAAAAAgAAAAIAAAACAAAAAgAAAAIAAAACAAAAAgAAAAIAAAACAAAAAQAAAAIAAAACAAAAAQAAAAIAAAACAAAAAgAAAAIAAAACAAAAAgAAAAEAAAABAAAAAwAAAAMAAAADAAAAAgAAAAIAAAABAAAAAgAAAAIAAAAEAAAABAAAAAQAAAAEAAAAAQAAAAIAAAACAAAAAQAAAAEAAAADAAAAAwAAAAMAAAACAAAAAgAAAAEAAAAEAAAABAAAAAQAAAAEAAAAAgAAAAIAAAADAAAAAwAAAAMAAAABAAAAAgAAAAIAAAACAAAAAgAAAAIAAAACAAAAAQAAAAEAAAACAAAAAgAAAAEAAAABAAAAAgAAAAIAAAABAAAAAgAAAAIAAAACAAAAAgAAAAMAAAADAAAAAwAAAAIAAAACAAAAAgAAAAIAAAACAAAAAgAAAAMAAAADAAAAAwAAAAEAAAACAAAAAgAAAAMAAAADAAAAAwAAAAUAAAAFAAAABQAAAAUAAAAFAAAAAQAAAAIAAAACAAAAAQAAAAIAAAACAAAAAQAAAAEAAAACAAAAAgAAAAIAAAACAAAAAgAAAAIAAAACAAAAAgAAAAIAAAACAAAAAQAAAAIAAAACAAAAAQAAAAUAAAAFAAAABQAAAAUAAAAFAAAABAAAAAQAAAAEAAAABAAAAAEAAAADAAAAAwAAAAMAAAABAAAAAQAAAAEAAAABAAAABAAAAAQAAAAEAAAABAAAAAEAAAACAAAAAgAAAAEAAAADAAAAAwAAAAMAAAAJAAAACQAAAAkAAAAJAAAACQAAAAkAAAAJAAAACQAAAAkAAAAEAAAABAAAAAQAAAAEAAAAAgAAAAIAAAACAAAAAgAAAAEAAAACAAAAAgAAAAEAAAACAAAAAgAAAAIAAAACAAAAAQAAAAIAAAACAAAAAQAAAAIAAAACAAAAAgAAAAIAAAABAAAAAgAAAAIAAAABAAAAAgAAAAIAAAABAAAAAQAAAAEAAAABAAAABgAAAAYAAAAGAAAABgAAAAYAAAAGAAAAAgAAAAIAAAACAAAAAgAAAAIAAAACAAAAAQAAAAIAAAACAAAAAQAAAAgAAAAIAAAACAAAAAgAAAAIAAAACAAAAAgAAAAIAAAAAQAAAAEAAAABAAAADAAAAAwAAAAMAAAADAAAAAwAAAAMAAAADAAAAAwAAAAMAAAADAAAAAwAAAAMAAAAAQAAAAEAAAABAAAAAgAAAAIAAAABAAAAAgAAAAIAAAABAAAAAQAAAAEAAAACAAAAAgAAAAMAAAADAAAAAwAAAAEAAAADAAAAAwAAAAMAAAACAAAAAgAAAAEAAAABAAAAAgAAAAIAAAABAAAAAgAAAAIAAAABAAAAAQAAAAEAAAADAAAAAwAAAAMAAAADAAAAAwAAAAMAAAABAAAAAQAAAAIAAAACAAAAAQAAAAIAAAACAAAAAQAAAAMAAAADAAAAAwAAAAEAAAABAAAAAgAAAAIAAAABAAAAAgAAAAIAAAADAAAAAwAAAAMAAAACAAAAAgAAAAMAAAADAAAAAwAAAAIAAAACAAAAAgAAAAIAAAABAAAAAgAAAAIAAAACAAAAAgAAAAIAAAACAAAAAgAAAAIAAAABAAAAAgAAAAIAAAACAAAAAgAAAAIAAAACAAAAAQAAAAIAAAACAAAAAQAAAAEAAAABAAAAAwAAAAMAAAADAAAABAAAAAQAAAAEAAAABAAAAAIAAAACAAAABQAAAAUAAAAFAAAABQAAAAUAAAABAAAAAgAAAAIAAAABAAAAAQAAAAEAAAACAAAAAgAAAAEAAAABAAAAAQAAAAEAAAACAAAAAgAAAAIAAAACAAAAAwAAAAMAAAADAAAAAgAAAAIAAAACAAAAAgAAAAEAAAAGAAAABgAAAAYAAAAGAAAABgAAAAYAAAACAAAAAgAAAAEAAAADAAAAAwAAAAMAAAABAAAAAQAAAAIAAAACAAAAAgAAAAIAAAACAAAAAgAAAAIAAAACAAAAAQAAAAMAAAADAAAAAwAAAAIAAAACAAAAAQAAAAIAAAACAAAAAgAAAAIAAAABAAAAAgAAAAIAAAACAAAAAgAAAAEAAAABAAAAAQAAAAEAAAABAAAAAQAAAAEAAAADAAAAAwAAAAMAAAACAAAAAgAAAAEAAAABAAAAAgAAAAIAAAABAAAAAQAAAAIAAAACAAAAAQAAAAMAAAADAAAAAwAAAAIAAAACAAAAAgAAAAIAAAACAAAAAgAAAAIAAAACAAAAAgAAAAIAAAABAAAAAQAAAAIAAAACAAAABAAAAAQAAAAEAAAABAAAAAEAAAABAAAAAgAAAAIAAAADAAAAAwAAAAMAAAADAAAAAwAAAAMAAAABAAAAAQAAAAQAAAAEAAAABAAAAAQAAAACAAAAAgAAAAEAAAACAAAAAgAAAAEAAAACAAAAAgAAAAEAAAACAAAAAgAAAAIAAAACAAAAAgAAAAIAAAABAAAAAQAAAAEAAAACAAAAAgAAAAEAAAAGAAAABgAAAAYAAAAGAAAABgAAAAYAAAABAAAAAQAAAAIAAAACAAAAAQAAAAEAAAAEAAAABAAAAAQAAAAEAAAAAgAAAAIAAAABAAAAAQAAAAMAAAADAAAAAwAAAAEAAAACAAAAAgAAAAIAAAACAAAAAQAAAAEAAAACAAAAAgAAAAIAAAACAAAABQAAAAUAAAAFAAAABQAAAAUAAAACAAAAAgAAAAEAAAADAAAAAwAAAAMAAAABAAAAAgAAAAIAAAABAAAAAQAAAAEAAAACAAAAAgAAAAIAAAACAAAAAgAAAAIAAAABAAAAAgAAAAIAAAACAAAAAgAAAAIAAAACAAAAAwAAAAMAAAADAAAAAQAAAAIAAAACAAAAAgAAAAIAAAAEAAAABAAAAAQAAAAEAAAAAwAAAAMAAAADAAAABAAAAAQAAAAEAAAABAAAAAIAAAACAAAAAQAAAAIAAAACAAAAAgAAAAIAAAAGAAAABgAAAAYAAAAGAAAABgAAAAYAAAAEAAAABAAAAAQAAAAEAAAAAQAAAAEAAAABAAAAAgAAAAIAAAACAAAAAgAAAAIAAAACAAAAAQAAAAEAAAABAAAAAwAAAAMAAAADAAAAAgAAAAIAAAABAAAAAQAAAAEAAAABAAAAAgAAAAIAAAACAAAAAgAAAAEAAAACAAAAAgAAAAIAAAACAAAAAQAAAAIAAAACAAAAAQAAAAEAAAACAAAAAgAAAAEAAAADAAAAAwAAAAMAAAABAAAAAQAAAAEAAAABAAAAAgAAAAIAAAAJAAAACQAAAAkAAAAJAAAACQAAAAkAAAAJAAAACQAAAAkAAAABAAAAAgAAAAIAAAAEAAAABAAAAAQAAAAEAAAAAgAAAAIAAAADAAAAAwAAAAMAAAABAAAAAQAAAAEAAAABAAAAAgAAAAIAAAADAAAAAwAAAAMAAAABAAAAAgAAAAIAAAACAAAAAgAAAAIAAAACAAAAAQAAAAIAAAACAAAAAgAAAAIAAAACAAAAAgAAAAUAAAAFAAAABQAAAAUAAAAFAAAAAgAAAAIAAAADAAAAAwAAAAMAAAABAAAAAQAAAAMAAAADAAAAAwAAAAEAAAABAAAAAQAAAAIAAAACAAAAAgAAAAIAAAABAAAAAgAAAAIAAAABAAAAAgAAAAIAAAACAAAAAgAAAAEAAAAEAAAABAAAAAQAAAAEAAAABAAAAAQAAAAEAAAABAAAAAQAAAAEAAAABAAAAAQAAAADAAAAAwAAAAMAAAABAAAABQAAAAUAAAAFAAAABQAAAAUAAAADAAAAAwAAAAMAAAABAAAAAgAAAAIAAAACAAAAAgAAAAIAAAACAAAAAwAAAAMAAAADAAAABAAAAAQAAAAEAAAABAAAAAIAAAACAAAABAAAAAQAAAAEAAAABAAAAAIAAAACAAAAAwAAAAMAAAADAAAAAQAAAAIAAAACAAAAAQAAAAIAAAACAAAAAQAAAAEAAAADAAAAAwAAAAMAAAACAAAAAgAAAAEAAAACAAAAAgAAAAMAAAADAAAAAwAAAAIAAAACAAAAAgAAAAIAAAACAAAAAgAAAAEAAAABAAAAAQAAAAIAAAACAAAAAgAAAAIAAAABAAAAAgAAAAIAAAABAAAAAQAAAAIAAAACAAAAAQAAAAQAAAAEAAAABAAAAAQAAAACAAAAAgAAAAEAAAAFAAAABQAAAAUAAAAFAAAABQAAAAEAAAACAAAAAgAAAAEAAAACAAAAAgAAAAEAAAABAAAABgAAAAYAAAAGAAAABgAAAAYAAAAGAAAABwAAAAcAAAAHAAAABwAAAAcAAAAHAAAABwAAAAIAAAACAAAAAQAAAAIAAAACAAAAAQAAAAEAAAABAAAAAQAAAAIAAAACAAAAAgAAAAIAAAACAAAAAgAAAAMAAAADAAAAAwAAAAEAAAAEAAAABAAAAAQAAAAEAAAAAwAAAAMAAAADAAAAAgAAAAIAAAABAAAAAQAAAAIAAAACAAAAAQAAAAIAAAACAAAABAAAAAQAAAAEAAAABAAAAAEAAAACAAAAAgAAAAEAAAACAAAAAgAAAAEAAAABAAAAAgAAAAIAAAAGAAAABgAAAAYAAAAGAAAABgAAAAYAAAACAAAAAgAAAAMAAAADAAAAAwAAAAEAAAADAAAAAwAAAAMAAAACAAAAAgAAAAIAAAACAAAAAQAAAAEAAAABAAAABQAAAAUAAAAFAAAABQAAAAUAAAACAAAAAgAAAAIAAAACAAAAAQAAAAMAAAADAAAAAwAAAAEAAAABAAAAAwAAAAMAAAADAAAADQAAAA0AAAANAAAADQAAAA0AAAANAAAADQAAAA0AAAANAAAADQAAAA0AAAANAAAADQAAAAEAAAACAAAAAgAAAAEAAAADAAAAAwAAAAMAAAABAAAAAQAAAAIAAAACAAAAAgAAAAIAAAACAAAAAgAAAAEAAAADAAAAAwAAAAMAAAACAAAAAgAAAAEAAAACAAAAAgAAAAIAAAACAAAAAgAAAAIAAAABAAAAAQAAAAIAAAACAAAAAwAAAAMAAAADAAAAAQAAAAIAAAACAAAAAgAAAAIAAAACAAAAAgAAAAMAAAADAAAAAwAAAAEAAAADAAAAAwAAAAMAAAACAAAAAgAAAAEAAAACAAAAAgAAAAIAAAACAAAAAgAAAAIAAAABAAAAAgAAAAIAAAACAAAAAgAAAAEAAAAEAAAABAAAAAQAAAAEAAAAAgAAAAIAAAACAAAAAgAAAAQAAAAEAAAABAAAAAQAAAADAAAAAwAAAAMAAAABAAAAAQAAAAEAAAACAAAAAgAAAAIAAAACAAAAAQAAAAIAAAACAAAABAAAAAQAAAAEAAAABAAAAAEAAAACAAAAAgAAAAEAAAABAAAAAQAAAAIAAAACAAAAAQAAAAEAAAABAAAAAgAAAAIAAAACAAAAAgAAAAEAAAADAAAAAwAAAAMAAAABAAAAAQAAAAIAAAACAAAAAgAAAAIAAAABAAAABQAAAAUAAAAFAAAABQAAAAUAAAACAAAAAgAAAAEAAAABAAAAAQAAAAIAAAACAAAAAgAAAAIAAAABAAAAAQAAAAMAAAADAAAAAwAAAAEAAAACAAAAAgAAAAEAAAACAAAAAgAAAAMAAAADAAAAAwAAAAIAAAACAAAAAgAAAAIAAAACAAAAAgAAAAEAAAABAAAAAgAAAAIAAAACAAAAAgAAAAIAAAACAAAAAQAAAAEAAAACAAAAAgAAAAEAAAABAAAAAQAAAAMAAAADAAAAAwAAAAEAAAACAAAAAgAAAAIAAAACAAAAAQAAAAEAAAABAAAAAgAAAAIAAAACAAAAAgAAAAIAAAACAAAAAgAAAAIAAAABAAAAAQAAAAIAAAACAAAAAgAAAAIAAAADAAAAAwAAAAMAAAABAAAAAgAAAAIAAAAEAAAABAAAAAQAAAAEAAAAAgAAAAIAAAACAAAAAgAAAAIAAAACAAAAAgAAAAIAAAACAAAAAgAAAAIAAAACAAAAAgAAAAIAAAACAAAAAgAAAAEAAAABAAAAAQAAAAEAAAABAAAABgAAAAYAAAAGAAAABgAAAAYAAAAGAAAAAgAAAAIAAAABAAAAAgAAAAIAAAABAAAAAgAAAAIAAAABAAAAAwAAAAMAAAADAAAAAQAAAAIAAAACAAAAAQAAAAMAAAADAAAAAwAAAAIAAAACAAAAAgAAAAIAAAACAAAAAgAAAAIAAAACAAAAAQAAAAEAAAABAAAAAwAAAAMAAAADAAAAAQAAAAIAAAACAAAAAgAAAAIAAAADAAAAAwAAAAMAAAAFAAAABQAAAAUAAAAFAAAABQAAAAEAAAACAAAAAgAAAAEAAAACAAAAAgAAAAIAAAACAAAAAQAAAAMAAAADAAAAAwAAAAEAAAAJAAAACQAAAAkAAAAJAAAACQAAAAkAAAAJAAAACQAAAAkAAAADAAAAAwAAAAMAAAACAAAAAgAAAAEAAAADAAAAAwAAAAMAAAABAAAAAgAAAAIAAAACAAAAAgAAAAEAAAABAAAAAQAAAAEAAAABAAAAAwAAAAMAAAADAAAAAQAAAAIAAAACAAAAAQAAAAMAAAADAAAAAwAAAAIAAAACAAAAAwAAAAMAAAADAAAAAgAAAAIAAAACAAAAAgAAAAEAAAACAAAAAgAAAAEAAAABAAAAAQAAAAEAAAABAAAAAQAAAAIAAAACAAAAAQAAAAEAAAACAAAAAgAAAAIAAAACAAAAAQAAAAIAAAACAAAAAQAAAAQAAAAEAAAABAAAAAQAAAACAAAAAgAAAAEAAAACAAAAAgAAAAEAAAABAAAABQAAAAUAAAAFAAAABQAAAAUAAAABAAAAAgAAAAIAAAABAAAAAQAAAAIAAAACAAAAAgAAAAIAAAACAAAAAgAAAAEAAAACAAAAAgAAAAIAAAACAAAAAQAAAAEAAAACAAAAAgAAAAUAAAAFAAAABQAAAAUAAAAFAAAAAQAAAAIAAAACAAAAAgAAAAIAAAACAAAAAgAAAAQAAAAEAAAABAAAAAQAAAABAAAAAQAAAAEAAAABAAAAAgAAAAIAAAABAAAAAQAAAAIAAAACAAAAAQAAAAEAAAACAAAAAgAAAAEAAAABAAAABAAAAAQAAAAEAAAABAAAAAEAAAABAAAAAQAAAAIAAAACAAAAAgAAAAIAAAACAAAAAgAAAAEAAAACAAAAAgAAAAEAAAACAAAAAgAAAAIAAAACAAAAAgAAAAIAAAADAAAAAwAAAAMAAAACAAAAAgAAAAIAAAACAAAAAgAAAAIAAAABAAAAAQAAAAEAAAACAAAAAgAAAAEAAAACAAAAAgAAAAEAAAABAAAAAQAAAAIAAAACAAAAAgAAAAIAAAACAAAAAgAAAAIAAAACAAAAAQAAAAIAAAACAAAAAQAAAAEAAAACAAAAAgAAAAEAAAACAAAAAgAAAAIAAAACAAAAAgAAAAIAAAACAAAAAgAAAAIAAAACAAAABAAAAAQAAAAEAAAABAAAAAEAAAABAAAABgAAAAYAAAAGAAAABgAAAAYAAAAGAAAAAQAAAAQAAAAEAAAABAAAAAQAAAACAAAAAgAAAAEAAAACAAAAAgAAAAIAAAACAAAABAAAAAQAAAAEAAAABAAAAAEAAAACAAAAAgAAAAEAAAABAAAAAQAAAAIAAAACAAAAAQAAAAIAAAACAAAAAgAAAAIAAAABAAAAAgAAAAIAAAADAAAAAwAAAAMAAAADAAAAAwAAAAMAAAACAAAAAgAAAAMAAAADAAAAAwAAAAQAAAAEAAAABAAAAAQAAAACAAAAAgAAAAQAAAAEAAAABAAAAAQAAAABAAAACwAAAAsAAAALAAAACwAAAAsAAAALAAAACwAAAAsAAAALAAAACwAAAAsAAAABAAAA\",\"dtype\":\"int32\",\"shape\":[7053]}}},\"id\":\"d3c0b9e3-02c6-4228-a798-d995cc5b6a23\",\"type\":\"ColumnDataSource\"},{\"attributes\":{\"formatter\":{\"id\":\"4be2388f-e60c-4236-883f-2b207b573bb9\",\"type\":\"BasicTickFormatter\"},\"plot\":{\"id\":\"1c496c6f-ee34-4510-beeb-9fdfded99b4e\",\"subtype\":\"Figure\",\"type\":\"Plot\"},\"ticker\":{\"id\":\"dc7bbf07-84bd-49d0-9bb9-2daa88a51aa7\",\"type\":\"BasicTicker\"}},\"id\":\"dba186c7-8d42-4c60-b8fe-d8cbe9a27c51\",\"type\":\"LinearAxis\"},{\"attributes\":{\"bottom_units\":\"screen\",\"fill_alpha\":{\"value\":0.5},\"fill_color\":{\"value\":\"lightgrey\"},\"left_units\":\"screen\",\"level\":\"overlay\",\"line_alpha\":{\"value\":1.0},\"line_color\":{\"value\":\"black\"},\"line_dash\":[4,4],\"line_width\":{\"value\":2},\"plot\":null,\"render_mode\":\"css\",\"right_units\":\"screen\",\"top_units\":\"screen\"},\"id\":\"3eadeb8a-6624-4733-aee1-17c3c12994b0\",\"type\":\"BoxAnnotation\"},{\"attributes\":{\"callback\":null},\"id\":\"ad96d6ef-bdcf-41eb-aa8b-55b6f11baa71\",\"type\":\"DataRange1d\"},{\"attributes\":{\"overlay\":{\"id\":\"3eadeb8a-6624-4733-aee1-17c3c12994b0\",\"type\":\"BoxAnnotation\"},\"plot\":{\"id\":\"1c496c6f-ee34-4510-beeb-9fdfded99b4e\",\"subtype\":\"Figure\",\"type\":\"Plot\"}},\"id\":\"1c7aa065-fe10-4e1f-9d18-43afc3a814db\",\"type\":\"BoxZoomTool\"},{\"attributes\":{\"plot\":{\"id\":\"1c496c6f-ee34-4510-beeb-9fdfded99b4e\",\"subtype\":\"Figure\",\"type\":\"Plot\"}},\"id\":\"3e0679d4-1b2e-4e26-9eab-4953d44f9ccc\",\"type\":\"HelpTool\"},{\"attributes\":{\"plot\":{\"id\":\"1c496c6f-ee34-4510-beeb-9fdfded99b4e\",\"subtype\":\"Figure\",\"type\":\"Plot\"}},\"id\":\"f538faea-8bac-402e-95b4-6839cc230a17\",\"type\":\"WheelZoomTool\"},{\"attributes\":{\"data_source\":{\"id\":\"d3c0b9e3-02c6-4228-a798-d995cc5b6a23\",\"type\":\"ColumnDataSource\"},\"glyph\":{\"id\":\"ffba90e2-f62a-4723-96dd-ab7e05d1b1c0\",\"type\":\"Circle\"},\"hover_glyph\":null,\"nonselection_glyph\":{\"id\":\"25b4fa02-e425-414c-ba4b-26387bdd2c2a\",\"type\":\"Circle\"},\"selection_glyph\":null},\"id\":\"a5e64ab4-e21b-4a45-a130-983fa2d2546a\",\"type\":\"GlyphRenderer\"},{\"attributes\":{},\"id\":\"ffbf85be-811b-48ef-8bc1-da265d64fd5f\",\"type\":\"ToolEvents\"},{\"attributes\":{\"plot\":{\"id\":\"1c496c6f-ee34-4510-beeb-9fdfded99b4e\",\"subtype\":\"Figure\",\"type\":\"Plot\"},\"ticker\":{\"id\":\"dc7bbf07-84bd-49d0-9bb9-2daa88a51aa7\",\"type\":\"BasicTicker\"}},\"id\":\"edfd51a3-1e30-496a-ae64-873e120c47fc\",\"type\":\"Grid\"},{\"attributes\":{},\"id\":\"dc7bbf07-84bd-49d0-9bb9-2daa88a51aa7\",\"type\":\"BasicTicker\"},{\"attributes\":{\"formatter\":{\"id\":\"90c8ce07-3bfc-440f-82e3-59a1e835f77b\",\"type\":\"BasicTickFormatter\"},\"plot\":{\"id\":\"1c496c6f-ee34-4510-beeb-9fdfded99b4e\",\"subtype\":\"Figure\",\"type\":\"Plot\"},\"ticker\":{\"id\":\"f9f92fb5-75f2-488e-b707-eeb637ce9099\",\"type\":\"BasicTicker\"}},\"id\":\"619ba263-d378-4821-b773-a7fab6d6da7d\",\"type\":\"LinearAxis\"},{\"attributes\":{\"plot\":{\"id\":\"1c496c6f-ee34-4510-beeb-9fdfded99b4e\",\"subtype\":\"Figure\",\"type\":\"Plot\"}},\"id\":\"03c94070-d5c5-454a-8256-bd452838224b\",\"type\":\"PanTool\"},{\"attributes\":{},\"id\":\"90c8ce07-3bfc-440f-82e3-59a1e835f77b\",\"type\":\"BasicTickFormatter\"},{\"attributes\":{\"plot\":{\"id\":\"1c496c6f-ee34-4510-beeb-9fdfded99b4e\",\"subtype\":\"Figure\",\"type\":\"Plot\"}},\"id\":\"9e5c2766-3282-4447-83e8-047ce6d5b619\",\"type\":\"SaveTool\"},{\"attributes\":{\"dimension\":1,\"plot\":{\"id\":\"1c496c6f-ee34-4510-beeb-9fdfded99b4e\",\"subtype\":\"Figure\",\"type\":\"Plot\"},\"ticker\":{\"id\":\"f9f92fb5-75f2-488e-b707-eeb637ce9099\",\"type\":\"BasicTicker\"}},\"id\":\"a49cde65-c745-4025-a5d5-4c9ef4d27d80\",\"type\":\"Grid\"},{\"attributes\":{\"callback\":null},\"id\":\"9f0ff914-e2c5-413d-9f7b-9ea92d700676\",\"type\":\"DataRange1d\"},{\"attributes\":{},\"id\":\"f9f92fb5-75f2-488e-b707-eeb637ce9099\",\"type\":\"BasicTicker\"},{\"attributes\":{\"plot\":{\"id\":\"1c496c6f-ee34-4510-beeb-9fdfded99b4e\",\"subtype\":\"Figure\",\"type\":\"Plot\"}},\"id\":\"6f28c652-b747-4775-826a-bb3bf8df8e59\",\"type\":\"ResetTool\"}],\"root_ids\":[\"1c496c6f-ee34-4510-beeb-9fdfded99b4e\"]},\"title\":\"Bokeh Application\",\"version\":\"0.12.4\"}};\n",
       "            var render_items = [{\"docid\":\"844cbabd-6a39-4fd5-a9d2-acdc0b90d9bb\",\"elementid\":\"4cabaa9c-cd19-4964-95f3-e8b6854ba41d\",\"modelid\":\"1c496c6f-ee34-4510-beeb-9fdfded99b4e\",\"notebook_comms_target\":\"a37c5b1e-c698-4d98-b37b-bf58ef569b68\"}];\n",
       "            \n",
       "            Bokeh.embed.embed_items(docs_json, render_items);\n",
       "          };\n",
       "          if (document.readyState != \"loading\") fn();\n",
       "          else document.addEventListener(\"DOMContentLoaded\", fn);\n",
       "        })();\n",
       "      },\n",
       "      function(Bokeh) {\n",
       "      }\n",
       "    ];\n",
       "  \n",
       "    function run_inline_js() {\n",
       "      \n",
       "      if ((window.Bokeh !== undefined) || (force === true)) {\n",
       "        for (var i = 0; i < inline_js.length; i++) {\n",
       "          inline_js[i](window.Bokeh);\n",
       "        }if (force === true) {\n",
       "          display_loaded();\n",
       "        }} else if (Date.now() < window._bokeh_timeout) {\n",
       "        setTimeout(run_inline_js, 100);\n",
       "      } else if (!window._bokeh_failed_load) {\n",
       "        console.log(\"Bokeh: BokehJS failed to load within specified timeout.\");\n",
       "        window._bokeh_failed_load = true;\n",
       "      } else if (force !== true) {\n",
       "        var cell = $(document.getElementById(\"4cabaa9c-cd19-4964-95f3-e8b6854ba41d\")).parents('.cell').data().cell;\n",
       "        cell.output_area.append_execute_result(NB_LOAD_WARNING)\n",
       "      }\n",
       "  \n",
       "    }\n",
       "  \n",
       "    if (window._bokeh_is_loading === 0) {\n",
       "      console.log(\"Bokeh: BokehJS loaded, going straight to plotting\");\n",
       "      run_inline_js();\n",
       "    } else {\n",
       "      load_libs(js_urls, function() {\n",
       "        console.log(\"Bokeh: BokehJS plotting callback run at\", now());\n",
       "        run_inline_js();\n",
       "      });\n",
       "    }\n",
       "  }(this));\n",
       "</script>"
      ]
     },
     "metadata": {},
     "output_type": "display_data"
    },
    {
     "data": {
      "text/html": [
       "<p><code>&lt;Bokeh Notebook handle for <strong>In[61]</strong>&gt;</code></p>"
      ],
      "text/plain": [
       "<bokeh.io._CommsHandle at 0x1fae064b438>"
      ]
     },
     "execution_count": 61,
     "metadata": {},
     "output_type": "execute_result"
    }
   ],
   "source": [
    "def update(f):\n",
    "    if f == \"Percent Disorder\": func = data_nn.pct_disord\n",
    "    elif f == \"Number of Disorderd Segments\" : func = data_nn.seg_disord\n",
    "    elif f == \"30 Residues Disordered\" : func = data_nn.thirty_disord\n",
    "    r.data_source.data[\"y\"] = func\n",
    "    push_notebook\n",
    "\n",
    "\n",
    "show(bokeh_plot, notebook_handle=True)\n"
   ]
  },
  {
   "cell_type": "code",
   "execution_count": 59,
   "metadata": {
    "collapsed": false
   },
   "outputs": [
    {
     "data": {
      "text/plain": [
       "<function __main__.update>"
      ]
     },
     "execution_count": 59,
     "metadata": {},
     "output_type": "execute_result"
    }
   ],
   "source": [
    "interact(update, f = [\"Percent Disorder\", \"Number of Disorderd Segments\", \"30 Residues Disordered\"])"
   ]
  },
  {
   "cell_type": "code",
   "execution_count": null,
   "metadata": {
    "collapsed": true
   },
   "outputs": [],
   "source": []
  },
  {
   "cell_type": "code",
   "execution_count": 63,
   "metadata": {
    "collapsed": false,
    "scrolled": true
   },
   "outputs": [
    {
     "name": "stdout",
     "output_type": "stream",
     "text": [
      "C:\\Users\\DDell\\Documents\\Programming\\Bioinformatics\\proteome_analysis_c_elegans\n"
     ]
    }
   ],
   "source": [
    "cd .."
   ]
  },
  {
   "cell_type": "code",
   "execution_count": null,
   "metadata": {
    "collapsed": true
   },
   "outputs": [],
   "source": []
  },
  {
   "cell_type": "code",
   "execution_count": null,
   "metadata": {
    "collapsed": false
   },
   "outputs": [],
   "source": []
  },
  {
   "cell_type": "code",
   "execution_count": null,
   "metadata": {
    "collapsed": true
   },
   "outputs": [],
   "source": []
  },
  {
   "cell_type": "code",
   "execution_count": null,
   "metadata": {
    "collapsed": true
   },
   "outputs": [],
   "source": []
  }
 ],
 "metadata": {
  "kernelspec": {
   "display_name": "Python 3",
   "language": "python",
   "name": "python3"
  },
  "language_info": {
   "codemirror_mode": {
    "name": "ipython",
    "version": 3
   },
   "file_extension": ".py",
   "mimetype": "text/x-python",
   "name": "python",
   "nbconvert_exporter": "python",
   "pygments_lexer": "ipython3",
   "version": "3.5.2"
  }
 },
 "nbformat": 4,
 "nbformat_minor": 0
}
