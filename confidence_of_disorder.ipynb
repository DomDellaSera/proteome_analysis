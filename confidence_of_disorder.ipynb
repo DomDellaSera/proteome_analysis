{
 "cells": [
  {
   "cell_type": "code",
   "execution_count": 7,
   "metadata": {
    "collapsed": true
   },
   "outputs": [],
   "source": [
    "import pandas as pd\n",
    "import numpy as np\n",
    "import re\n",
    "import csv\n",
    "#spA5JYQ9.fasta_disorder_confidence_label\n",
    "testfile = \"test_files/spA5JYQ9.fasta_all.fasta\""
   ]
  },
  {
   "cell_type": "code",
   "execution_count": 13,
   "metadata": {
    "collapsed": false
   },
   "outputs": [],
   "source": [
    "def protein_conf(confidence_file):\n",
    "    #Input: .fasta_disorder_confidence_labelfile \n",
    "    #Output: Single row pandas datatable\n",
    "    \n",
    "    \n",
    "    with open(confidence_file) as conf:\n",
    "        \n",
    "        #Initial Formatting\n",
    "        conf = conf.read()\n",
    "        print(conf)\n",
    "                \n",
    "##############################Debugging issues that occur with dealing ewith larger files\n",
    "        x=    \"\"\"try:\n",
    "                float(i[1])\n",
    "            except:\n",
    "                \n",
    "                stats[count][1] = stats[count][1].split(\" \")\n",
    "                \n",
    "        #if error != None\n",
    "        #    stats\n",
    "        #[float(x[1]) for x in stats]\n",
    "        #stats = [x[1].rstrip(\" \") for x in stats]\n",
    "        #stats = [x.rstrip(\" \") for x in stats if \" \" in x]\n",
    "#############################/Debugging#################################\n",
    "        dir_len = len(\"c_elegans_manual_plus_iso/\")+2\n",
    "        pro_name = stats_file[dir_len:-12]    \n",
    "        \n",
    "        if stats[5][1]!= None:\n",
    "            df_range = len(stats[5][1])\n",
    "        else:\n",
    "            df_range = 1\n",
    "        stat_table = pd.DataFrame({\"protein\" : pd.Series(pro_name, index=list(range(1)), dtype=object),\n",
    "                                  \"tot_aa\"  : np.array(stats[0][1], dtype=\"int32\"),\n",
    "                                   \"pct_disord\" : np.array(stats[1][1], dtype=\"float32\"),\n",
    "                                   \"thirty_disord\" : np.array(stats[2][1], dtype=\"int32\"),\n",
    "                                   \"fifty_disord\" : np.array(stats[3][1], dtype=\"int32\"),\n",
    "                                   \"seg_disord\" : np.array(stats[4][1], dtype=\"int32\")#,\n",
    "                                   #\"len_dist\" : pd.Series(stats[5][1], dtype=\"float32\")\n",
    "                                       \n",
    "                                  \n",
    "                                })\n",
    "        #print(stats_file, \"successfully put into table form\")\n",
    "        \"\"\"\n",
    "        return(conf)\n",
    "   "
   ]
  },
  {
   "cell_type": "code",
   "execution_count": 14,
   "metadata": {
    "collapsed": false
   },
   "outputs": [
    {
     "name": "stdout",
     "output_type": "stream",
     "text": [
      ">spA5JYQ9.fasta\n",
      "MTTSSSSEPSTMATLFPNFRDQEVQSAVKNLLTYSLVILIVPLASMFLLKQFFFEGLLGVSANDALTYSAIIAVVLVHVVLGIWLFAATKQEDRKKRENKQD\n",
      ">spA5JYQ9.fasta_disorder\n",
      "DDDDDDDDDDDDDDDDDDDDDDDDDDDDDDDOOOOOOOOOOOOOOOOOOOOOOOOOOOOOOOOOOOOOOOOOOOOOODDDDDDDDDDDDDDDDDDDDDDDDD\n",
      ">spA5JYQ9.fasta_disorder_confidence_label\n",
      "556666666666666555555555555555545555555555555555555555555555555555555555555545555555556666667777777766\n"
     ]
    },
    {
     "data": {
      "text/plain": [
       "'>spA5JYQ9.fasta\\nMTTSSSSEPSTMATLFPNFRDQEVQSAVKNLLTYSLVILIVPLASMFLLKQFFFEGLLGVSANDALTYSAIIAVVLVHVVLGIWLFAATKQEDRKKRENKQD\\n>spA5JYQ9.fasta_disorder\\nDDDDDDDDDDDDDDDDDDDDDDDDDDDDDDDOOOOOOOOOOOOOOOOOOOOOOOOOOOOOOOOOOOOOOOOOOOOOODDDDDDDDDDDDDDDDDDDDDDDDD\\n>spA5JYQ9.fasta_disorder_confidence_label\\n556666666666666555555555555555545555555555555555555555555555555555555555555545555555556666667777777766'"
      ]
     },
     "execution_count": 14,
     "metadata": {},
     "output_type": "execute_result"
    }
   ],
   "source": [
    "protein_conf(testfile)"
   ]
  },
  {
   "cell_type": "code",
   "execution_count": null,
   "metadata": {
    "collapsed": true
   },
   "outputs": [],
   "source": []
  }
 ],
 "metadata": {
  "kernelspec": {
   "display_name": "Python 3",
   "language": "python",
   "name": "python3"
  },
  "language_info": {
   "codemirror_mode": {
    "name": "ipython",
    "version": 3
   },
   "file_extension": ".py",
   "mimetype": "text/x-python",
   "name": "python",
   "nbconvert_exporter": "python",
   "pygments_lexer": "ipython3",
   "version": "3.5.2"
  }
 },
 "nbformat": 4,
 "nbformat_minor": 0
}
